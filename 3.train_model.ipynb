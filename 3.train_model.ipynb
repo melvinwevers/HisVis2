{
 "cells": [
  {
   "cell_type": "code",
   "execution_count": 2,
   "metadata": {},
   "outputs": [
    {
     "name": "stdout",
     "output_type": "stream",
     "text": [
      "Requirement already satisfied: torch in /opt/conda/lib/python3.9/site-packages (1.9.0)\n",
      "Requirement already satisfied: torchvision in /opt/conda/lib/python3.9/site-packages (0.10.0)\n",
      "Requirement already satisfied: typing-extensions in /opt/conda/lib/python3.9/site-packages (from torch) (3.10.0.0)\n",
      "Requirement already satisfied: pillow>=5.3.0 in /opt/conda/lib/python3.9/site-packages (from torchvision) (8.3.1)\n",
      "Requirement already satisfied: numpy in /opt/conda/lib/python3.9/site-packages (from torchvision) (1.21.1)\n",
      "Collecting fastai\n",
      "  Downloading fastai-2.5.2-py3-none-any.whl (186 kB)\n",
      "\u001b[K     |████████████████████████████████| 186 kB 4.5 MB/s eta 0:00:01\n",
      "\u001b[?25hRequirement already satisfied: pyyaml in /opt/conda/lib/python3.9/site-packages (from fastai) (5.4.1)\n",
      "Requirement already satisfied: torch<1.10,>=1.7.0 in /opt/conda/lib/python3.9/site-packages (from fastai) (1.9.0)\n",
      "Requirement already satisfied: pip in /opt/conda/lib/python3.9/site-packages (from fastai) (21.2.1)\n",
      "Requirement already satisfied: packaging in /opt/conda/lib/python3.9/site-packages (from fastai) (21.0)\n",
      "Requirement already satisfied: requests in /opt/conda/lib/python3.9/site-packages (from fastai) (2.26.0)\n",
      "Requirement already satisfied: matplotlib in /opt/conda/lib/python3.9/site-packages (from fastai) (3.4.2)\n",
      "Requirement already satisfied: pillow>6.0.0 in /opt/conda/lib/python3.9/site-packages (from fastai) (8.3.1)\n",
      "Requirement already satisfied: scipy in /opt/conda/lib/python3.9/site-packages (from fastai) (1.7.0)\n",
      "Requirement already satisfied: torchvision>=0.8.2 in /opt/conda/lib/python3.9/site-packages (from fastai) (0.10.0)\n",
      "Collecting scikit-learn\n",
      "  Downloading scikit_learn-0.24.2-cp39-cp39-manylinux2010_x86_64.whl (23.8 MB)\n",
      "\u001b[K     |████████████████████████████████| 23.8 MB 49.1 MB/s eta 0:00:01\n",
      "\u001b[?25hCollecting spacy<4\n",
      "  Downloading spacy-3.1.2-cp39-cp39-manylinux_2_17_x86_64.manylinux2014_x86_64.whl (5.9 MB)\n",
      "\u001b[K     |████████████████████████████████| 5.9 MB 22.2 MB/s eta 0:00:01\n",
      "\u001b[?25hCollecting fastcore<1.4,>=1.3.8\n",
      "  Downloading fastcore-1.3.26-py3-none-any.whl (56 kB)\n",
      "\u001b[K     |████████████████████████████████| 56 kB 189 kB/s  eta 0:00:01\n",
      "\u001b[?25hRequirement already satisfied: pandas in /opt/conda/lib/python3.9/site-packages (from fastai) (1.3.1)\n",
      "Collecting fastprogress>=0.2.4\n",
      "  Downloading fastprogress-1.0.0-py3-none-any.whl (12 kB)\n",
      "Collecting fastdownload<2,>=0.0.5\n",
      "  Downloading fastdownload-0.0.5-py3-none-any.whl (13 kB)\n",
      "Requirement already satisfied: numpy in /opt/conda/lib/python3.9/site-packages (from fastprogress>=0.2.4->fastai) (1.21.1)\n",
      "Requirement already satisfied: tqdm<5.0.0,>=4.38.0 in /opt/conda/lib/python3.9/site-packages (from spacy<4->fastai) (4.61.2)\n",
      "Collecting pydantic!=1.8,!=1.8.1,<1.9.0,>=1.7.4\n",
      "  Downloading pydantic-1.8.2-cp39-cp39-manylinux2014_x86_64.whl (11.3 MB)\n",
      "\u001b[K     |████████████████████████████████| 11.3 MB 29.8 MB/s eta 0:00:01\n",
      "\u001b[?25hCollecting preshed<3.1.0,>=3.0.2\n",
      "  Downloading preshed-3.0.5-cp39-cp39-manylinux2014_x86_64.whl (127 kB)\n",
      "\u001b[K     |████████████████████████████████| 127 kB 33.8 MB/s eta 0:00:01\n",
      "\u001b[?25hRequirement already satisfied: setuptools in /opt/conda/lib/python3.9/site-packages (from spacy<4->fastai) (49.6.0.post20210108)\n",
      "Collecting srsly<3.0.0,>=2.4.1\n",
      "  Downloading srsly-2.4.1-cp39-cp39-manylinux2014_x86_64.whl (457 kB)\n",
      "\u001b[K     |████████████████████████████████| 457 kB 33.7 MB/s eta 0:00:01\n",
      "\u001b[?25hCollecting thinc<8.1.0,>=8.0.8\n",
      "  Downloading thinc-8.0.8-cp39-cp39-manylinux_2_17_x86_64.manylinux2014_x86_64.whl (629 kB)\n",
      "\u001b[K     |████████████████████████████████| 629 kB 31.3 MB/s eta 0:00:01\n",
      "\u001b[?25hCollecting typer<0.4.0,>=0.3.0\n",
      "  Downloading typer-0.3.2-py3-none-any.whl (21 kB)\n",
      "Requirement already satisfied: jinja2 in /opt/conda/lib/python3.9/site-packages (from spacy<4->fastai) (3.0.1)\n",
      "Collecting blis<0.8.0,>=0.4.0\n",
      "  Downloading blis-0.7.4-cp39-cp39-manylinux2014_x86_64.whl (9.8 MB)\n",
      "\u001b[K     |████████████████████████████████| 9.8 MB 26.9 MB/s eta 0:00:01\n",
      "\u001b[?25hCollecting catalogue<2.1.0,>=2.0.4\n",
      "  Downloading catalogue-2.0.6-py3-none-any.whl (17 kB)\n",
      "Collecting pathy>=0.3.5\n",
      "  Downloading pathy-0.6.0-py3-none-any.whl (42 kB)\n",
      "\u001b[K     |████████████████████████████████| 42 kB 27 kB/s s eta 0:00:01\n",
      "\u001b[?25hCollecting murmurhash<1.1.0,>=0.28.0\n",
      "  Downloading murmurhash-1.0.5-cp39-cp39-manylinux2014_x86_64.whl (20 kB)\n",
      "Collecting spacy-legacy<3.1.0,>=3.0.7\n",
      "  Downloading spacy_legacy-3.0.8-py2.py3-none-any.whl (14 kB)\n",
      "Collecting cymem<2.1.0,>=2.0.2\n",
      "  Downloading cymem-2.0.5-cp39-cp39-manylinux2014_x86_64.whl (34 kB)\n",
      "Collecting wasabi<1.1.0,>=0.8.1\n",
      "  Downloading wasabi-0.8.2-py3-none-any.whl (23 kB)\n",
      "Requirement already satisfied: pyparsing>=2.0.2 in /opt/conda/lib/python3.9/site-packages (from packaging->fastai) (2.4.7)\n",
      "Collecting smart-open<6.0.0,>=5.0.0\n",
      "  Downloading smart_open-5.2.0-py3-none-any.whl (58 kB)\n",
      "\u001b[K     |████████████████████████████████| 58 kB 1.9 MB/s  eta 0:00:01\n",
      "\u001b[?25hRequirement already satisfied: typing-extensions>=3.7.4.3 in /opt/conda/lib/python3.9/site-packages (from pydantic!=1.8,!=1.8.1,<1.9.0,>=1.7.4->spacy<4->fastai) (3.10.0.0)\n",
      "Requirement already satisfied: certifi>=2017.4.17 in /opt/conda/lib/python3.9/site-packages (from requests->fastai) (2021.5.30)\n",
      "Requirement already satisfied: charset-normalizer~=2.0.0 in /opt/conda/lib/python3.9/site-packages (from requests->fastai) (2.0.0)\n",
      "Requirement already satisfied: urllib3<1.27,>=1.21.1 in /opt/conda/lib/python3.9/site-packages (from requests->fastai) (1.26.6)\n",
      "Requirement already satisfied: idna<4,>=2.5 in /opt/conda/lib/python3.9/site-packages (from requests->fastai) (3.1)\n",
      "Collecting click<7.2.0,>=7.1.1\n",
      "  Downloading click-7.1.2-py2.py3-none-any.whl (82 kB)\n",
      "\u001b[K     |████████████████████████████████| 82 kB 217 kB/s  eta 0:00:01\n",
      "\u001b[?25hRequirement already satisfied: MarkupSafe>=2.0 in /opt/conda/lib/python3.9/site-packages (from jinja2->spacy<4->fastai) (2.0.1)\n",
      "Requirement already satisfied: python-dateutil>=2.7 in /opt/conda/lib/python3.9/site-packages (from matplotlib->fastai) (2.8.2)\n",
      "Requirement already satisfied: cycler>=0.10 in /opt/conda/lib/python3.9/site-packages (from matplotlib->fastai) (0.10.0)\n",
      "Requirement already satisfied: kiwisolver>=1.0.1 in /opt/conda/lib/python3.9/site-packages (from matplotlib->fastai) (1.3.1)\n",
      "Requirement already satisfied: six in /opt/conda/lib/python3.9/site-packages (from cycler>=0.10->matplotlib->fastai) (1.16.0)\n",
      "Requirement already satisfied: pytz>=2017.3 in /opt/conda/lib/python3.9/site-packages (from pandas->fastai) (2021.1)\n",
      "Collecting threadpoolctl>=2.0.0\n",
      "  Downloading threadpoolctl-2.2.0-py3-none-any.whl (12 kB)\n",
      "Collecting joblib>=0.11\n",
      "  Downloading joblib-1.0.1-py3-none-any.whl (303 kB)\n",
      "\u001b[K     |████████████████████████████████| 303 kB 30.4 MB/s eta 0:00:01\n",
      "\u001b[?25hInstalling collected packages: murmurhash, cymem, click, catalogue, wasabi, typer, srsly, smart-open, pydantic, preshed, blis, threadpoolctl, thinc, spacy-legacy, pathy, joblib, fastprogress, fastcore, spacy, scikit-learn, fastdownload, fastai\n",
      "  Attempting uninstall: click\n",
      "    Found existing installation: click 8.0.1\n",
      "    Uninstalling click-8.0.1:\n",
      "      Successfully uninstalled click-8.0.1\n",
      "Successfully installed blis-0.7.4 catalogue-2.0.6 click-7.1.2 cymem-2.0.5 fastai-2.5.2 fastcore-1.3.26 fastdownload-0.0.5 fastprogress-1.0.0 joblib-1.0.1 murmurhash-1.0.5 pathy-0.6.0 preshed-3.0.5 pydantic-1.8.2 scikit-learn-0.24.2 smart-open-5.2.0 spacy-3.1.2 spacy-legacy-3.0.8 srsly-2.4.1 thinc-8.0.8 threadpoolctl-2.2.0 typer-0.3.2 wasabi-0.8.2\n"
     ]
    }
   ],
   "source": [
    "!pip3 install torch torchvision\n",
    "!pip3 install fastai"
   ]
  },
  {
   "cell_type": "code",
   "execution_count": 3,
   "metadata": {},
   "outputs": [],
   "source": [
    "# helper functions for fast.ai\n",
    "\n",
    "# def plot_function(f, tx=None, ty=None, title=None, min=-2, max=2, figsize=(6,4)):\n",
    "#     x = torch.linspace(min,max)\n",
    "#     fig,ax = plt.subplots(figsize=figsize)\n",
    "#     ax.plot(x,f(x))\n",
    "#     if tx is not None: ax.set_xlabel(tx)\n",
    "#     if ty is not None: ax.set_ylabel(ty)\n",
    "#     if title is not None: ax.set_title(title)\n",
    "        \n",
    "        \n",
    "def label_func(fname):\n",
    "    '''\n",
    "    function to grab folder name as label name\n",
    "    '''\n",
    "    return fname.parent.name\n",
    "\n",
    "def get_dls(bs, size, augment=True):\n",
    "    '''\n",
    "    function to get datablocks\n",
    "    '''\n",
    "    if augment:\n",
    "        batch_tfms=[*aug_transforms(size=size, \n",
    "                                    do_flip=True, \n",
    "                                    max_rotate = 10.0, \n",
    "                                    max_zoom=1.1, \n",
    "                                    min_scale=0.75), \n",
    "                    Normalize.from_stats(*imagenet_stats)]\n",
    "    else:\n",
    "        batch_tfms=[*aug_transforms(size=size, min_scale=0.75), Normalize.from_stats(*imagenet_stats)]\n",
    "        \n",
    "    dblock = DataBlock(blocks = (ImageBlock, CategoryBlock),\n",
    "                       get_items=get_image_files, \n",
    "                       splitter=RandomSplitter(seed=42),\n",
    "                       get_y=label_func,\n",
    "                       item_tfms=Resize(460),\n",
    "                       batch_tfms=batch_tfms)\n",
    "    return dblock.dataloaders(path, bs=128)\n",
    "\n",
    "\n",
    "def new_resnet(pretrained):\n",
    "    '''\n",
    "    fix for cnn_learner module using non-standard pre-trained models\n",
    "    '''\n",
    "    return default_res50\n",
    "\n",
    "def accuracy_topk(output, target, topk=(3,)):\n",
    "    \"\"\"Computes the precision@k for the specified values of k\"\"\"\n",
    "    maxk = max(topk)\n",
    "    batch_size = target.size(0)\n",
    "\n",
    "    _, pred = output.topk(maxk, 1, True, True)\n",
    "    pred = pred.t()\n",
    "    correct = pred.eq(target.view(1, -1).expand_as(pred))\n",
    "\n",
    "    res = []\n",
    "    for k in topk:\n",
    "        correct_k = correct[:k].view(-1).float().sum(0, keepdim=True)\n",
    "        res.append(correct_k.mul_(100.0 / batch_size))\n",
    "    return res\n",
    "\n",
    "def random_test_image(img_dir, categories):\n",
    "    \"\"\"Pick a random test image from specified dir\"\"\"\n",
    "    c = np.random.choice(categories)\n",
    "    root = img_dir + c + '/'\n",
    "    img_path = root + np.random.choice(os.listdir(root))\n",
    "    print(img_path)\n",
    "    return img_path"
   ]
  },
  {
   "cell_type": "code",
   "execution_count": 4,
   "metadata": {},
   "outputs": [],
   "source": [
    "from fastai.vision.all import *"
   ]
  },
  {
   "cell_type": "code",
   "execution_count": 5,
   "metadata": {},
   "outputs": [],
   "source": [
    "# setting path variables \n",
    "Path.BASE_PATH = Path('../../MelvinWevers#9512/DeBoer_Train')\n",
    "Path.BASE_PATH.ls()\n",
    "path = Path.BASE_PATH"
   ]
  },
  {
   "cell_type": "code",
   "execution_count": 6,
   "metadata": {},
   "outputs": [
    {
     "name": "stderr",
     "output_type": "stream",
     "text": [
      "/opt/conda/lib/python3.9/site-packages/torch/_tensor.py:1023: UserWarning: torch.solve is deprecated in favor of torch.linalg.solveand will be removed in a future PyTorch release.\n",
      "torch.linalg.solve has its arguments reversed and does not return the LU factorization.\n",
      "To get the LU factorization see torch.lu, which can be used with torch.lu_solve or torch.lu_unpack.\n",
      "X = torch.solve(B, A).solution\n",
      "should be replaced with\n",
      "X = torch.linalg.solve(A, B) (Triggered internally at  /pytorch/aten/src/ATen/native/BatchLinearAlgebra.cpp:760.)\n",
      "  ret = func(*args, **kwargs)\n"
     ]
    }
   ],
   "source": [
    "data = get_dls(128, 224)\n",
    "classes = data.vocab"
   ]
  },
  {
   "cell_type": "code",
   "execution_count": 7,
   "metadata": {},
   "outputs": [
    {
     "data": {
      "text/plain": [
       "<All keys matched successfully>"
      ]
     },
     "execution_count": 7,
     "metadata": {},
     "output_type": "execute_result"
    }
   ],
   "source": [
    "# th architecture to use\n",
    "arch = 'resnet50'\n",
    "\n",
    "# (down)load the pre-trained weights\n",
    "model_weights = '%s_places365.pth.tar' % arch\n",
    "if not os.access(model_weights, os.W_OK):\n",
    "    weight_url = 'http://places2.csail.mit.edu/models_places365/' + model_weights\n",
    "    os.system('wget ' + weight_url)\n",
    "    \n",
    "places_res50 = torch.load(model_weights,  \n",
    "                          map_location=lambda storage, \n",
    "                          loc: storage)\n",
    "\n",
    "default_res50 = models.resnet50()\n",
    "state_dict = places_res50['state_dict'] \n",
    "new_state_dict = OrderedDict()\n",
    "\n",
    "for key in state_dict.keys():\n",
    "    new_state_dict[key[7:]]= state_dict[key]\n",
    "    \n",
    "\n",
    "default_res50.fc = torch.nn.Linear(2048, 365) # Matching with default res50 dense layer\n",
    "default_res50.load_state_dict(new_state_dict)"
   ]
  },
  {
   "cell_type": "code",
   "execution_count": 8,
   "metadata": {},
   "outputs": [
    {
     "name": "stderr",
     "output_type": "stream",
     "text": [
      "/opt/conda/lib/python3.9/site-packages/torch/nn/functional.py:718: UserWarning: Named tensors and all their associated APIs are an experimental feature and subject to change. Please do not use them for anything important until they are released as stable. (Triggered internally at  /pytorch/c10/core/TensorImpl.h:1156.)\n",
      "  return torch.max_pool2d(input, kernel_size, stride, padding, dilation, ceil_mode)\n"
     ]
    }
   ],
   "source": [
    "learn = cnn_learner(get_dls(128, 224, augment=True), \n",
    "                    new_resnet,\n",
    "                    #models.resnet34,\n",
    "                    metrics=[top_k_accuracy, \n",
    "                             accuracy,\n",
    "                             error_rate])"
   ]
  },
  {
   "cell_type": "code",
   "execution_count": 9,
   "metadata": {},
   "outputs": [
    {
     "data": {
      "text/html": [
       "<table border=\"1\" class=\"dataframe\">\n",
       "  <thead>\n",
       "    <tr style=\"text-align: left;\">\n",
       "      <th>epoch</th>\n",
       "      <th>train_loss</th>\n",
       "      <th>valid_loss</th>\n",
       "      <th>top_k_accuracy</th>\n",
       "      <th>accuracy</th>\n",
       "      <th>error_rate</th>\n",
       "      <th>time</th>\n",
       "    </tr>\n",
       "  </thead>\n",
       "  <tbody>\n",
       "    <tr>\n",
       "      <td>0</td>\n",
       "      <td>4.802175</td>\n",
       "      <td>3.029920</td>\n",
       "      <td>0.596447</td>\n",
       "      <td>0.327411</td>\n",
       "      <td>0.672589</td>\n",
       "      <td>00:36</td>\n",
       "    </tr>\n",
       "    <tr>\n",
       "      <td>1</td>\n",
       "      <td>3.625664</td>\n",
       "      <td>2.268492</td>\n",
       "      <td>0.749366</td>\n",
       "      <td>0.466371</td>\n",
       "      <td>0.533629</td>\n",
       "      <td>00:29</td>\n",
       "    </tr>\n",
       "    <tr>\n",
       "      <td>2</td>\n",
       "      <td>2.904247</td>\n",
       "      <td>1.879558</td>\n",
       "      <td>0.809010</td>\n",
       "      <td>0.539340</td>\n",
       "      <td>0.460660</td>\n",
       "      <td>00:28</td>\n",
       "    </tr>\n",
       "    <tr>\n",
       "      <td>3</td>\n",
       "      <td>2.363202</td>\n",
       "      <td>1.698921</td>\n",
       "      <td>0.835660</td>\n",
       "      <td>0.574239</td>\n",
       "      <td>0.425761</td>\n",
       "      <td>00:28</td>\n",
       "    </tr>\n",
       "    <tr>\n",
       "      <td>4</td>\n",
       "      <td>2.001698</td>\n",
       "      <td>1.627491</td>\n",
       "      <td>0.849619</td>\n",
       "      <td>0.590102</td>\n",
       "      <td>0.409898</td>\n",
       "      <td>00:28</td>\n",
       "    </tr>\n",
       "    <tr>\n",
       "      <td>5</td>\n",
       "      <td>1.767174</td>\n",
       "      <td>1.600981</td>\n",
       "      <td>0.851523</td>\n",
       "      <td>0.590736</td>\n",
       "      <td>0.409264</td>\n",
       "      <td>00:29</td>\n",
       "    </tr>\n",
       "    <tr>\n",
       "      <td>6</td>\n",
       "      <td>1.579166</td>\n",
       "      <td>1.532401</td>\n",
       "      <td>0.864213</td>\n",
       "      <td>0.608503</td>\n",
       "      <td>0.391497</td>\n",
       "      <td>00:28</td>\n",
       "    </tr>\n",
       "    <tr>\n",
       "      <td>7</td>\n",
       "      <td>1.430176</td>\n",
       "      <td>1.567667</td>\n",
       "      <td>0.855330</td>\n",
       "      <td>0.599619</td>\n",
       "      <td>0.400381</td>\n",
       "      <td>00:29</td>\n",
       "    </tr>\n",
       "    <tr>\n",
       "      <td>8</td>\n",
       "      <td>1.324923</td>\n",
       "      <td>1.524329</td>\n",
       "      <td>0.868655</td>\n",
       "      <td>0.609137</td>\n",
       "      <td>0.390863</td>\n",
       "      <td>00:28</td>\n",
       "    </tr>\n",
       "    <tr>\n",
       "      <td>9</td>\n",
       "      <td>1.236876</td>\n",
       "      <td>1.589263</td>\n",
       "      <td>0.859772</td>\n",
       "      <td>0.598350</td>\n",
       "      <td>0.401650</td>\n",
       "      <td>00:28</td>\n",
       "    </tr>\n",
       "    <tr>\n",
       "      <td>10</td>\n",
       "      <td>1.192894</td>\n",
       "      <td>1.670605</td>\n",
       "      <td>0.852157</td>\n",
       "      <td>0.602157</td>\n",
       "      <td>0.397843</td>\n",
       "      <td>00:29</td>\n",
       "    </tr>\n",
       "    <tr>\n",
       "      <td>11</td>\n",
       "      <td>1.155268</td>\n",
       "      <td>1.605173</td>\n",
       "      <td>0.847081</td>\n",
       "      <td>0.601523</td>\n",
       "      <td>0.398477</td>\n",
       "      <td>00:29</td>\n",
       "    </tr>\n",
       "  </tbody>\n",
       "</table>"
      ],
      "text/plain": [
       "<IPython.core.display.HTML object>"
      ]
     },
     "metadata": {},
     "output_type": "display_data"
    },
    {
     "name": "stdout",
     "output_type": "stream",
     "text": [
      "Better model found at epoch 0 with valid_loss value: 3.0299198627471924.\n",
      "Better model found at epoch 1 with valid_loss value: 2.2684922218322754.\n",
      "Better model found at epoch 2 with valid_loss value: 1.8795578479766846.\n",
      "Better model found at epoch 3 with valid_loss value: 1.6989209651947021.\n",
      "Better model found at epoch 4 with valid_loss value: 1.6274912357330322.\n",
      "Better model found at epoch 5 with valid_loss value: 1.6009814739227295.\n",
      "Better model found at epoch 6 with valid_loss value: 1.5324013233184814.\n",
      "Better model found at epoch 8 with valid_loss value: 1.5243291854858398.\n",
      "No improvement since epoch 6: early stopping\n"
     ]
    }
   ],
   "source": [
    "learn.fit_one_cycle(50, 3e-3, cbs=[SaveModelCallback(monitor='valid_loss', \n",
    "                                                    \n",
    "                                                   fname='deboer_baseline'), \n",
    "                                   EarlyStoppingCallback(monitor='valid_loss', min_delta=0.01, patience=5)])"
   ]
  },
  {
   "cell_type": "code",
   "execution_count": 10,
   "metadata": {},
   "outputs": [],
   "source": [
    "data = get_dls(128, 224)\n",
    "classes = data.vocab"
   ]
  },
  {
   "cell_type": "code",
   "execution_count": 12,
   "metadata": {},
   "outputs": [
    {
     "data": {
      "text/html": [],
      "text/plain": [
       "<IPython.core.display.HTML object>"
      ]
     },
     "metadata": {},
     "output_type": "display_data"
    },
    {
     "data": {
      "image/png": "[encoded data removed]",
      "text/plain": [
       "<Figure size 1152x360 with 2 Axes>"
      ]
     },
     "metadata": {
      "needs_background": "light"
     },
     "output_type": "display_data"
    }
   ],
   "source": [
    "valid_paths = data.valid_ds.items\n",
    "random_path = random.choice(valid_paths)\n",
    "label, y, output = learn.predict(random_path)\n",
    "img = Image.open(random_path)\n",
    "img = img.resize((256, 256))\n",
    "probs, preds = output.topk(5)\n",
    "top_classes = [classes[i] for i in preds]\n",
    "top5 = list(probs)\n",
    "result = pd.DataFrame({'p': probs}, index=top_classes)\n",
    "\n",
    "\n",
    "plt.figure(figsize=(16,5))\n",
    "ax = plt.subplot(1, 2, 1)\n",
    "ax.set_title(label, size=20)\n",
    "ax = plt.imshow(img, cmap='gray')\n",
    "\n",
    "plt.axis('off')\n",
    "ax = plt.subplot(1, 2, 2)\n",
    "result.sort_values('p')['p'].plot.barh(color='blue', edgecolor='k', ax=ax)\n",
    "plt.xlabel('Predicted probabilities')\n",
    "plt.tight_layout()\n",
    "plt.savefig('dining_room.png', dpi=300, bbox_inches='tight')"
   ]
  },
  {
   "cell_type": "code",
   "execution_count": 13,
   "metadata": {},
   "outputs": [
    {
     "data": {
      "text/html": [],
      "text/plain": [
       "<IPython.core.display.HTML object>"
      ]
     },
     "metadata": {},
     "output_type": "display_data"
    }
   ],
   "source": [
    "interp = ClassificationInterpretation.from_learner(learn)"
   ]
  },
  {
   "cell_type": "code",
   "execution_count": 14,
   "metadata": {},
   "outputs": [
    {
     "data": {
      "text/plain": [
       "[('uitreiking_huldiging', 'groepsportret', 8),\n",
       " ('boten', 'haven', 6),\n",
       " ('gebouw', 'woonwijk', 6),\n",
       " ('mensen_massa', 'optocht', 6),\n",
       " ('woonwijk', 'gebouw', 6),\n",
       " ('portret', 'woonkamer', 5),\n",
       " ('vergaderruimte', 'klaslokaal', 5)]"
      ]
     },
     "execution_count": 14,
     "metadata": {},
     "output_type": "execute_result"
    }
   ],
   "source": [
    "interp.most_confused(min_val=5)"
   ]
  },
  {
   "cell_type": "code",
   "execution_count": 15,
   "metadata": {},
   "outputs": [
    {
     "name": "stdout",
     "output_type": "stream",
     "text": [
      "                        precision    recall  f1-score   support\n",
      "\n",
      "                 akker       0.44      0.50      0.47         8\n",
      "           amfitheater       1.00      0.67      0.80         3\n",
      "                  aula       0.33      0.62      0.43        13\n",
      "                  auto       0.00      0.00      0.00         7\n",
      "          auto_ongeluk       0.73      0.50      0.59        16\n",
      "              bakkerij       0.00      0.00      0.00         2\n",
      "     basketbal_korfbal       0.85      1.00      0.92        11\n",
      "         begraafplaats       1.00      0.25      0.40         4\n",
      "            begrafenis       0.25      0.29      0.27         7\n",
      "bibliotheek_boekwinkel       0.43      0.75      0.55         4\n",
      "        binnen_zwembad       0.70      0.70      0.70        10\n",
      "               bloemen       0.14      0.50      0.22         2\n",
      "           bloementuin       0.75      0.38      0.50         8\n",
      "                boksen       0.50      0.50      0.50         2\n",
      "     borden_gevelsteen       0.50      0.50      0.50         6\n",
      "              bos_park       0.33      0.31      0.32        16\n",
      "                 boten       0.76      0.64      0.69        44\n",
      "            bouwplaats       0.45      0.78      0.57        64\n",
      "                 brand       0.84      0.84      0.84        31\n",
      "                  brug       0.50      0.44      0.47         9\n",
      "              bruiloft       0.50      0.25      0.33         8\n",
      "        buiten_zwembad       0.00      0.00      0.00         2\n",
      "             bus_truck       0.38      0.56      0.45         9\n",
      "                  cafe       0.29      0.12      0.17        17\n",
      "               catwalk       0.00      0.00      0.00         2\n",
      "                circus       0.94      0.94      0.94        18\n",
      "               cricket       1.00      1.00      1.00        12\n",
      "       dansende_mensen       0.07      0.25      0.11         4\n",
      "          demonstratie       0.50      0.55      0.52        11\n",
      "         dieren_overig       0.50      0.50      0.50         6\n",
      "                duinen       0.67      0.50      0.57         8\n",
      "                  eend       1.00      0.50      0.67         2\n",
      "               etalage       0.50      0.55      0.52        11\n",
      "         etende_mensen       0.50      0.67      0.57         9\n",
      "               fabriek       0.67      0.74      0.70        42\n",
      "      fietsende_mensen       0.89      0.73      0.80        11\n",
      "       garage_showroom       1.00      0.40      0.57         5\n",
      "                gebouw       0.74      0.80      0.77        61\n",
      "          geestelijken       0.25      0.12      0.17         8\n",
      "          gemeentehuis       0.00      0.00      0.00         1\n",
      "         groepsportret       0.34      0.62      0.44        37\n",
      "            gymnastiek       0.86      0.71      0.77        17\n",
      "               handbal       0.88      0.70      0.78        10\n",
      "             hardlopen       1.00      0.20      0.33         5\n",
      "                 haven       0.59      0.77      0.67        22\n",
      "            herdenking       0.17      0.40      0.24         5\n",
      " historisch_toneelstuk       0.60      0.25      0.35        12\n",
      "                hockey       1.00      0.33      0.50         6\n",
      "                  hond       0.50      0.50      0.50         2\n",
      "               honkbal       0.94      0.75      0.83        20\n",
      "                huisje       1.00      0.11      0.20         9\n",
      "             kaartspel       0.00      0.00      0.00         0\n",
      "                  kade       0.62      0.56      0.59         9\n",
      "              kamperen       0.67      0.40      0.50         5\n",
      "               kantoor       0.79      0.71      0.75        31\n",
      "                kapper       1.00      0.33      0.50         3\n",
      "                  kerk       0.80      0.62      0.70        13\n",
      "           kerk_binnen       0.68      0.76      0.72        17\n",
      "                kermis       0.00      0.00      0.00         0\n",
      "              kerstmis       1.00      0.67      0.80         3\n",
      "                keuken       1.00      0.50      0.67        10\n",
      "            klaslokaal       0.16      0.33      0.21         9\n",
      "                   koe       0.00      0.00      0.00         2\n",
      "                konijn       1.00      0.20      0.33         5\n",
      "             kunstwerk       0.67      0.75      0.71         8\n",
      "             luchtfoto       0.93      0.81      0.87        16\n",
      "              maquette       1.00      0.83      0.91         6\n",
      "                 markt       0.75      0.19      0.30        16\n",
      "          mensen_massa       0.48      0.53      0.50        38\n",
      "    mensen_op_een_boot       0.00      0.00      0.00        11\n",
      "              militair       0.36      0.45      0.40        11\n",
      "            motorfiets       0.33      0.50      0.40         2\n",
      "       muziek_optreden       0.57      0.45      0.51        51\n",
      "      ongeluk_brancard       0.00      0.00      0.00         2\n",
      "    ontvangst_afscheid       0.00      0.00      0.00         2\n",
      "             opgraving       1.00      0.40      0.57         5\n",
      "               optocht       0.40      0.86      0.55        21\n",
      "                 paard       0.82      0.64      0.72        14\n",
      "           plattegrond       0.00      0.00      0.00         0\n",
      "               portret       0.91      0.65      0.76        60\n",
      "                  race       0.71      0.83      0.77         6\n",
      "                roeien       0.54      0.78      0.64         9\n",
      "                 rugby       0.00      0.00      0.00         0\n",
      "             schaatsen       0.88      0.78      0.82         9\n",
      "        schaken_dammen       0.90      1.00      0.95         9\n",
      "           scheepswerf       1.00      0.57      0.73         7\n",
      "           sinterklaas       0.60      0.68      0.64        41\n",
      "              slagerij       0.60      1.00      0.75         3\n",
      "       sneeuwlandschap       0.58      0.70      0.64        10\n",
      "                speech       0.60      0.30      0.40        20\n",
      "             speeltuin       0.38      0.33      0.35         9\n",
      "            standbeeld       0.36      0.42      0.38        12\n",
      "                straat       0.84      0.58      0.69        36\n",
      "                strand       0.57      0.84      0.68        19\n",
      "          tafel_tennis       1.00      0.67      0.80         3\n",
      "                tennis       0.00      0.00      0.00         3\n",
      "       tentoonstelling       0.71      0.85      0.77        20\n",
      "                terras       0.50      0.33      0.40         3\n",
      "               theater       0.50      0.50      0.50        12\n",
      "                 toren       0.75      0.75      0.75         4\n",
      "                  tram       0.33      0.14      0.20         7\n",
      "                 trein       1.00      0.25      0.40         4\n",
      "         trein_ongeluk       0.75      1.00      0.86         9\n",
      "         trein_station       1.00      0.67      0.80         3\n",
      "  uitreiking_huldiging       0.74      0.69      0.72        71\n",
      "        vergaderruimte       0.47      0.40      0.43        20\n",
      "           vijver_plas       1.00      0.12      0.22         8\n",
      "              visserij       0.60      0.38      0.46         8\n",
      "           vlag_hijsen       0.00      0.00      0.00         2\n",
      "               voetbal       0.80      0.94      0.86        47\n",
      "          voetbal_team       0.67      0.86      0.75         7\n",
      "             volleybal       0.00      0.00      0.00         1\n",
      "             water_ski       0.00      0.00      0.00         1\n",
      "             waterpolo       0.00      0.00      0.00         1\n",
      "              waterweg       0.56      0.33      0.42        15\n",
      "            wielrennen       0.00      0.00      0.00         0\n",
      "             windmolen       0.88      0.88      0.88         8\n",
      "         winkel_binnen       0.39      0.69      0.50        16\n",
      "          winkelstraat       0.80      0.44      0.57         9\n",
      "             woonkamer       0.61      0.52      0.56        21\n",
      "              woonwijk       0.61      0.61      0.61        36\n",
      "           zaalvoetbal       0.88      1.00      0.93         7\n",
      "        zeepkistenrace       0.00      0.00      0.00         0\n",
      "            ziekenhuis       0.46      0.86      0.60         7\n",
      "                 zwaan       0.00      0.00      0.00         4\n",
      "\n",
      "             micro avg       0.61      0.61      0.61      1576\n",
      "             macro avg       0.55      0.48      0.48      1576\n",
      "          weighted avg       0.64      0.61      0.60      1576\n",
      "\n"
     ]
    },
    {
     "name": "stderr",
     "output_type": "stream",
     "text": [
      "/opt/conda/lib/python3.9/site-packages/sklearn/metrics/_classification.py:1248: UndefinedMetricWarning: Precision and F-score are ill-defined and being set to 0.0 in labels with no predicted samples. Use `zero_division` parameter to control this behavior.\n",
      "  _warn_prf(average, modifier, msg_start, len(result))\n",
      "/opt/conda/lib/python3.9/site-packages/sklearn/metrics/_classification.py:1248: UndefinedMetricWarning: Recall and F-score are ill-defined and being set to 0.0 in labels with no true samples. Use `zero_division` parameter to control this behavior.\n",
      "  _warn_prf(average, modifier, msg_start, len(result))\n",
      "/opt/conda/lib/python3.9/site-packages/sklearn/metrics/_classification.py:1248: UndefinedMetricWarning: Precision and F-score are ill-defined and being set to 0.0 in labels with no predicted samples. Use `zero_division` parameter to control this behavior.\n",
      "  _warn_prf(average, modifier, msg_start, len(result))\n",
      "/opt/conda/lib/python3.9/site-packages/sklearn/metrics/_classification.py:1248: UndefinedMetricWarning: Recall and F-score are ill-defined and being set to 0.0 in labels with no true samples. Use `zero_division` parameter to control this behavior.\n",
      "  _warn_prf(average, modifier, msg_start, len(result))\n",
      "/opt/conda/lib/python3.9/site-packages/sklearn/metrics/_classification.py:1248: UndefinedMetricWarning: Precision and F-score are ill-defined and being set to 0.0 in labels with no predicted samples. Use `zero_division` parameter to control this behavior.\n",
      "  _warn_prf(average, modifier, msg_start, len(result))\n",
      "/opt/conda/lib/python3.9/site-packages/sklearn/metrics/_classification.py:1248: UndefinedMetricWarning: Recall and F-score are ill-defined and being set to 0.0 in labels with no true samples. Use `zero_division` parameter to control this behavior.\n",
      "  _warn_prf(average, modifier, msg_start, len(result))\n"
     ]
    }
   ],
   "source": [
    "interp.print_classification_report()"
   ]
  },
  {
   "cell_type": "code",
   "execution_count": 16,
   "metadata": {},
   "outputs": [
    {
     "data": {
      "text/plain": [
       "Path('models/DeBoer_places.pth')"
      ]
     },
     "execution_count": 16,
     "metadata": {},
     "output_type": "execute_result"
    }
   ],
   "source": [
    "learn.save('DeBoer_places')"
   ]
  },
  {
   "cell_type": "code",
   "execution_count": 45,
   "metadata": {},
   "outputs": [],
   "source": [
    "learn = cnn_learner(get_dls(128, 224, augment=True), \n",
    "                    new_resnet,\n",
    "                    #models.resnet34,\n",
    "                    metrics=[top_k_accuracy, \n",
    "                             accuracy,\n",
    "                             error_rate])"
   ]
  },
  {
   "cell_type": "code",
   "execution_count": 46,
   "metadata": {},
   "outputs": [
    {
     "data": {
      "text/plain": [
       "<fastai.learner.Learner at 0x7fa5787624c0>"
      ]
     },
     "execution_count": 46,
     "metadata": {},
     "output_type": "execute_result"
    }
   ],
   "source": [
    "learn.load('DeBoer_places')"
   ]
  },
  {
   "cell_type": "code",
   "execution_count": 47,
   "metadata": {},
   "outputs": [
    {
     "data": {
      "text/html": [],
      "text/plain": [
       "<IPython.core.display.HTML object>"
      ]
     },
     "metadata": {},
     "output_type": "display_data"
    }
   ],
   "source": [
    "label, y, output = learn.predict('../../MelvinWevers#9512/DeBoer_Train/auto_ongeluk/NL-HlmNHA_1478_08130_G.jpg')"
   ]
  },
  {
   "cell_type": "code",
   "execution_count": null,
   "metadata": {},
   "outputs": [],
   "source": []
  },
  {
   "cell_type": "code",
   "execution_count": 18,
   "metadata": {},
   "outputs": [],
   "source": [
    "learn.export('./models/DeBoer_places.pkl')"
   ]
  },
  {
   "cell_type": "code",
   "execution_count": 48,
   "metadata": {},
   "outputs": [],
   "source": [
    "probs, preds = output.topk(5)\n",
    "top_classes = [classes[i] for i in preds]\n",
    "top5 = list(probs)\n",
    "result = pd.DataFrame({'p': probs}, index=top_classes)"
   ]
  },
  {
   "cell_type": "code",
   "execution_count": 49,
   "metadata": {},
   "outputs": [
    {
     "data": {
      "text/html": [
       "<div>\n",
       "<style scoped>\n",
       "    .dataframe tbody tr th:only-of-type {\n",
       "        vertical-align: middle;\n",
       "    }\n",
       "\n",
       "    .dataframe tbody tr th {\n",
       "        vertical-align: top;\n",
       "    }\n",
       "\n",
       "    .dataframe thead th {\n",
       "        text-align: right;\n",
       "    }\n",
       "</style>\n",
       "<table border=\"1\" class=\"dataframe\">\n",
       "  <thead>\n",
       "    <tr style=\"text-align: right;\">\n",
       "      <th></th>\n",
       "      <th>p</th>\n",
       "    </tr>\n",
       "  </thead>\n",
       "  <tbody>\n",
       "    <tr>\n",
       "      <th>auto_ongeluk</th>\n",
       "      <td>0.851779</td>\n",
       "    </tr>\n",
       "    <tr>\n",
       "      <th>auto</th>\n",
       "      <td>0.053180</td>\n",
       "    </tr>\n",
       "    <tr>\n",
       "      <th>trein_ongeluk</th>\n",
       "      <td>0.019182</td>\n",
       "    </tr>\n",
       "    <tr>\n",
       "      <th>akker</th>\n",
       "      <td>0.019047</td>\n",
       "    </tr>\n",
       "    <tr>\n",
       "      <th>kamperen</th>\n",
       "      <td>0.018278</td>\n",
       "    </tr>\n",
       "  </tbody>\n",
       "</table>\n",
       "</div>"
      ],
      "text/plain": [
       "                      p\n",
       "auto_ongeluk   0.851779\n",
       "auto           0.053180\n",
       "trein_ongeluk  0.019182\n",
       "akker          0.019047\n",
       "kamperen       0.018278"
      ]
     },
     "execution_count": 49,
     "metadata": {},
     "output_type": "execute_result"
    }
   ],
   "source": [
    "result"
   ]
  },
  {
   "cell_type": "code",
   "execution_count": 40,
   "metadata": {},
   "outputs": [],
   "source": [
    "def make_prediction(path, topk=5):\n",
    "    output_ = {}\n",
    "    label, y, output = learner.predict(path)\n",
    "    probs, preds = output.topk(125)\n",
    "    for index, class_ in enumerate(preds):\n",
    "        output_[classes[class_]] = round(float(probs[index]),4)\n",
    "    return output_"
   ]
  },
  {
   "cell_type": "code",
   "execution_count": 35,
   "metadata": {},
   "outputs": [],
   "source": [
    "learner = load_learner('./models/DeBoer_places.pkl')"
   ]
  },
  {
   "cell_type": "code",
   "execution_count": 44,
   "metadata": {},
   "outputs": [
    {
     "data": {
      "text/html": [],
      "text/plain": [
       "<IPython.core.display.HTML object>"
      ]
     },
     "metadata": {},
     "output_type": "display_data"
    },
    {
     "data": {
      "text/plain": [
       "{'slagerij': 0.1767,\n",
       " 'circus': 0.1187,\n",
       " 'vlag_hijsen': 0.0552,\n",
       " 'duinen': 0.0462,\n",
       " 'zeepkistenrace': 0.0284,\n",
       " 'markt': 0.0275,\n",
       " 'theater': 0.0264,\n",
       " 'motorfiets': 0.0256,\n",
       " 'tafel_tennis': 0.0204,\n",
       " 'dieren_overig': 0.0202,\n",
       " 'rugby': 0.0171,\n",
       " 'handbal': 0.0171,\n",
       " 'schaken_dammen': 0.0171,\n",
       " 'zwaan': 0.0166,\n",
       " 'herdenking': 0.0148,\n",
       " 'windmolen': 0.014,\n",
       " 'bos_park': 0.0139,\n",
       " 'water_ski': 0.0136,\n",
       " 'hockey': 0.0134,\n",
       " 'geestelijken': 0.0132,\n",
       " 'tennis': 0.0117,\n",
       " 'zaalvoetbal': 0.0115,\n",
       " 'koe': 0.0102,\n",
       " 'fabriek': 0.0097,\n",
       " 'uitreiking_huldiging': 0.0092,\n",
       " 'trein_ongeluk': 0.0091,\n",
       " 'sneeuwlandschap': 0.0084,\n",
       " 'vergaderruimte': 0.0082,\n",
       " 'wielrennen': 0.008,\n",
       " 'buiten_zwembad': 0.0077,\n",
       " 'cafe': 0.0075,\n",
       " 'dansende_mensen': 0.0074,\n",
       " 'demonstratie': 0.0073,\n",
       " 'cricket': 0.0067,\n",
       " 'begraafplaats': 0.0059,\n",
       " 'konijn': 0.0053,\n",
       " 'terras': 0.0053,\n",
       " 'trein': 0.0051,\n",
       " 'straat': 0.005,\n",
       " 'begrafenis': 0.0049,\n",
       " 'bloementuin': 0.0045,\n",
       " 'sinterklaas': 0.0045,\n",
       " 'groepsportret': 0.0044,\n",
       " 'tram': 0.0044,\n",
       " 'luchtfoto': 0.0043,\n",
       " 'kermis': 0.0043,\n",
       " 'kerstmis': 0.0041,\n",
       " 'schaatsen': 0.004,\n",
       " 'vijver_plas': 0.004,\n",
       " 'maquette': 0.0039,\n",
       " 'roeien': 0.0039,\n",
       " 'speech': 0.0039,\n",
       " 'portret': 0.0036,\n",
       " 'woonkamer': 0.0036,\n",
       " 'bibliotheek_boekwinkel': 0.0034,\n",
       " 'bus_truck': 0.0034,\n",
       " 'bloemen': 0.0033,\n",
       " 'volleybal': 0.0032,\n",
       " 'gymnastiek': 0.003,\n",
       " 'borden_gevelsteen': 0.0029,\n",
       " 'etalage': 0.0029,\n",
       " 'plattegrond': 0.0028,\n",
       " 'winkelstraat': 0.0028,\n",
       " 'fietsende_mensen': 0.0025,\n",
       " 'kerk': 0.0025,\n",
       " 'basketbal_korfbal': 0.0024,\n",
       " 'catwalk': 0.0023,\n",
       " 'hond': 0.0023,\n",
       " 'voetbal_team': 0.0023,\n",
       " 'etende_mensen': 0.0021,\n",
       " 'waterpolo': 0.002,\n",
       " 'waterweg': 0.002,\n",
       " 'kapper': 0.002,\n",
       " 'bakkerij': 0.0019,\n",
       " 'keuken': 0.0019,\n",
       " 'tentoonstelling': 0.0018,\n",
       " 'mensen_massa': 0.0017,\n",
       " 'gemeentehuis': 0.0017,\n",
       " 'brug': 0.0016,\n",
       " 'huisje': 0.0016,\n",
       " 'bouwplaats': 0.0016,\n",
       " 'ziekenhuis': 0.0015,\n",
       " 'optocht': 0.0015,\n",
       " 'auto_ongeluk': 0.0014,\n",
       " 'woonwijk': 0.0014,\n",
       " 'haven': 0.0014,\n",
       " 'hardlopen': 0.0014,\n",
       " 'akker': 0.0014,\n",
       " 'boten': 0.0011,\n",
       " 'boksen': 0.001,\n",
       " 'eend': 0.001,\n",
       " 'bruiloft': 0.001,\n",
       " 'voetbal': 0.0009,\n",
       " 'brand': 0.0009,\n",
       " 'ontvangst_afscheid': 0.0009,\n",
       " 'kunstwerk': 0.0008,\n",
       " 'trein_station': 0.0008,\n",
       " 'klaslokaal': 0.0008,\n",
       " 'muziek_optreden': 0.0007,\n",
       " 'visserij': 0.0007,\n",
       " 'kade': 0.0007,\n",
       " 'militair': 0.0006,\n",
       " 'winkel_binnen': 0.0006,\n",
       " 'gebouw': 0.0005,\n",
       " 'kaartspel': 0.0005,\n",
       " 'auto': 0.0005,\n",
       " 'mensen_op_een_boot': 0.0004,\n",
       " 'historisch_toneelstuk': 0.0004,\n",
       " 'speeltuin': 0.0004,\n",
       " 'paard': 0.0004,\n",
       " 'amfitheater': 0.0003,\n",
       " 'toren': 0.0003,\n",
       " 'scheepswerf': 0.0003,\n",
       " 'binnen_zwembad': 0.0003,\n",
       " 'race': 0.0002,\n",
       " 'honkbal': 0.0002,\n",
       " 'kamperen': 0.0002,\n",
       " 'ongeluk_brancard': 0.0002,\n",
       " 'opgraving': 0.0002,\n",
       " 'garage_showroom': 0.0002,\n",
       " 'standbeeld': 0.0002,\n",
       " 'strand': 0.0002,\n",
       " 'kantoor': 0.0001,\n",
       " 'aula': 0.0001,\n",
       " 'kerk_binnen': 0.0001}"
      ]
     },
     "execution_count": 44,
     "metadata": {},
     "output_type": "execute_result"
    }
   ],
   "source": [
    "make_prediction('../../MelvinWevers#9512/DeBoer_Train/bruiloft/NL-HlmNHA_1478_08555_G.jpg')"
   ]
  },
  {
   "cell_type": "code",
   "execution_count": null,
   "metadata": {},
   "outputs": [],
   "source": []
  }
 ],
 "metadata": {
  "kernelspec": {
   "display_name": "local-env",
   "language": "python",
   "name": "local-env"
  },
  "language_info": {
   "codemirror_mode": {
    "name": "ipython",
    "version": 3
   },
   "file_extension": ".py",
   "mimetype": "text/x-python",
   "name": "python",
   "nbconvert_exporter": "python",
   "pygments_lexer": "ipython3",
   "version": "3.9.6"
  }
 },
 "nbformat": 4,
 "nbformat_minor": 4
}
