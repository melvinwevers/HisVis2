{
 "cells": [
  {
   "cell_type": "code",
   "execution_count": 1,
   "metadata": {},
   "outputs": [],
   "source": [
    "import pandas as pd\n",
    "import json\n",
    "import matplotlib.pyplot as plt \n",
    "import numpy as np\n",
    "import seaborn as sns\n",
    "import newlinejson"
   ]
  },
  {
   "cell_type": "code",
   "execution_count": 2,
   "metadata": {},
   "outputs": [],
   "source": [
    "predictions = [json.loads(line) for line in open('../output/predictions/20220926predictions.json','r')]\n"
   ]
  },
  {
   "cell_type": "code",
   "execution_count": 3,
   "metadata": {},
   "outputs": [],
   "source": [
    "for x in predictions:\n",
    "    filtered_dict = {}\n",
    "    for (key, value) in x['predictions'].items():\n",
    "        if value > 0.6:\n",
    "            filtered_dict[key] = value\n",
    "    x['predictions'] = filtered_dict\n"
   ]
  },
  {
   "cell_type": "code",
   "execution_count": 5,
   "metadata": {},
   "outputs": [],
   "source": [
    "filename = '../output/predictions/20220926predictions_filtered.json'\n",
    "with open(filename, \"w\") as f:\n",
    "        newlinejson.dump(predictions, f)"
   ]
  },
  {
   "cell_type": "code",
   "execution_count": 66,
   "metadata": {},
   "outputs": [
    {
     "data": {
      "text/plain": [
       "<seaborn.axisgrid.FacetGrid at 0x145e4b838e90>"
      ]
     },
     "execution_count": 66,
     "metadata": {},
     "output_type": "execute_result"
    },
    {
     "data": {
      "image/png": "[encoded data removed]",
      "text/plain": [
       "<Figure size 360x360 with 1 Axes>"
      ]
     },
     "metadata": {
      "needs_background": "light"
     },
     "output_type": "display_data"
    }
   ],
   "source": [
    "sns.displot(values)"
   ]
  },
  {
   "cell_type": "code",
   "execution_count": 37,
   "metadata": {},
   "outputs": [
    {
     "data": {
      "text/plain": [
       "(array([4., 0., 0., 1., 1., 4., 2., 1., 1., 0., 2., 1., 0., 1., 0., 0., 1.,\n",
       "        1., 0., 0., 0., 0., 0., 0., 0., 0., 0., 0., 0., 1., 0., 0., 0., 0.,\n",
       "        0., 0., 0., 0., 0., 0., 1., 0., 0., 1., 0., 0., 0., 0., 0., 0., 0.,\n",
       "        0., 0., 0., 0., 1., 0., 0., 0., 0., 0., 0., 0., 0., 0., 0., 0., 0.,\n",
       "        0., 0., 0., 0., 0., 0., 0., 0., 0., 0., 0., 0., 0., 0., 0., 0., 0.,\n",
       "        0., 0., 0., 0., 0., 0., 0., 0., 0., 0., 0., 0., 0., 0., 1.]),\n",
       " array([0.    , 0.0099, 0.0198, 0.0297, 0.0396, 0.0495, 0.0594, 0.0693,\n",
       "        0.0792, 0.0891, 0.099 , 0.1089, 0.1188, 0.1287, 0.1386, 0.1485,\n",
       "        0.1584, 0.1683, 0.1782, 0.1881, 0.198 , 0.2079, 0.2178, 0.2277,\n",
       "        0.2376, 0.2475, 0.2574, 0.2673, 0.2772, 0.2871, 0.297 , 0.3069,\n",
       "        0.3168, 0.3267, 0.3366, 0.3465, 0.3564, 0.3663, 0.3762, 0.3861,\n",
       "        0.396 , 0.4059, 0.4158, 0.4257, 0.4356, 0.4455, 0.4554, 0.4653,\n",
       "        0.4752, 0.4851, 0.495 , 0.5049, 0.5148, 0.5247, 0.5346, 0.5445,\n",
       "        0.5544, 0.5643, 0.5742, 0.5841, 0.594 , 0.6039, 0.6138, 0.6237,\n",
       "        0.6336, 0.6435, 0.6534, 0.6633, 0.6732, 0.6831, 0.693 , 0.7029,\n",
       "        0.7128, 0.7227, 0.7326, 0.7425, 0.7524, 0.7623, 0.7722, 0.7821,\n",
       "        0.792 , 0.8019, 0.8118, 0.8217, 0.8316, 0.8415, 0.8514, 0.8613,\n",
       "        0.8712, 0.8811, 0.891 , 0.9009, 0.9108, 0.9207, 0.9306, 0.9405,\n",
       "        0.9504, 0.9603, 0.9702, 0.9801, 0.99  ]),\n",
       " <BarContainer object of 100 artists>)"
      ]
     },
     "execution_count": 37,
     "metadata": {},
     "output_type": "execute_result"
    },
    {
     "data": {
      "image/png": "[encoded data removed]",
      "text/plain": [
       "<Figure size 432x288 with 1 Axes>"
      ]
     },
     "metadata": {
      "needs_background": "light"
     },
     "output_type": "display_data"
    }
   ],
   "source": [
    "plt.hist(values, bins=100)"
   ]
  },
  {
   "cell_type": "markdown",
   "metadata": {},
   "source": [
    "## Filtering predictions"
   ]
  },
  {
   "cell_type": "markdown",
   "metadata": {},
   "source": []
  }
 ],
 "metadata": {
  "kernelspec": {
   "display_name": "Python 3.7.11 ('hisvis')",
   "language": "python",
   "name": "python3"
  },
  "language_info": {
   "codemirror_mode": {
    "name": "ipython",
    "version": 3
   },
   "file_extension": ".py",
   "mimetype": "text/x-python",
   "name": "python",
   "nbconvert_exporter": "python",
   "pygments_lexer": "ipython3",
   "version": "3.7.11"
  },
  "orig_nbformat": 4,
  "vscode": {
   "interpreter": {
    "hash": "87fc510cc897bc545846a47445e229a3c7c19d2613c167ce6a85f0f229feba93"
   }
  }
 },
 "nbformat": 4,
 "nbformat_minor": 2
}
