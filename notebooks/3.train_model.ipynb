{
 "cells": [
  {
   "cell_type": "code",
   "execution_count": 26,
   "metadata": {},
   "outputs": [],
   "source": [
    "# helper functions for fast.ai\n",
    "\n",
    "# def plot_function(f, tx=None, ty=None, title=None, min=-2, max=2, figsize=(6,4)):\n",
    "#     x = torch.linspace(min,max)\n",
    "#     fig,ax = plt.subplots(figsize=figsize)\n",
    "#     ax.plot(x,f(x))\n",
    "#     if tx is not None: ax.set_xlabel(tx)\n",
    "#     if ty is not None: ax.set_ylabel(ty)\n",
    "#     if title is not None: ax.set_title(title)\n",
    "        \n",
    "        \n",
    "def label_func(fname):\n",
    "    '''\n",
    "    function to grab folder name as label name\n",
    "    '''\n",
    "    return fname.parent.name\n",
    "\n",
    "def get_dls(bs, size, augment=True):\n",
    "    '''\n",
    "    function to get datablocks\n",
    "    '''\n",
    "    if augment:\n",
    "        batch_tfms=[*aug_transforms(size=size, \n",
    "                                    do_flip=True, \n",
    "                                    max_rotate = 10.0, \n",
    "                                    max_zoom=1.1, \n",
    "                                    min_scale=0.75), \n",
    "                    Normalize.from_stats(*imagenet_stats)]\n",
    "    else:\n",
    "        batch_tfms=[*aug_transforms(size=size, min_scale=0.75), Normalize.from_stats(*imagenet_stats)]\n",
    "        \n",
    "    dblock = DataBlock(blocks = (ImageBlock, CategoryBlock),\n",
    "                       get_items=get_image_files, \n",
    "                       splitter=RandomSplitter(valid_pct=0.2, seed=42),\n",
    "                       #get_y=label_func,\n",
    "                       get_y=parent_label,\n",
    "                       item_tfms=Resize(460),\n",
    "                       batch_tfms=batch_tfms)\n",
    "    return dblock.dataloaders(path, bs=bs)\n",
    "\n",
    "\n",
    "def new_resnet(pretrained):\n",
    "    '''\n",
    "    fix for cnn_learner module using non-standard pre-trained models\n",
    "    '''\n",
    "    return default_res50\n",
    "\n",
    "def accuracy_topk(output, target, topk=(3,)):\n",
    "    \"\"\"Computes the precision@k for the specified values of k\"\"\"\n",
    "    maxk = max(topk)\n",
    "    batch_size = target.size(0)\n",
    "\n",
    "    _, pred = output.topk(maxk, 1, True, True)\n",
    "    pred = pred.t()\n",
    "    correct = pred.eq(target.view(1, -1).expand_as(pred))\n",
    "\n",
    "    res = []\n",
    "    for k in topk:\n",
    "        correct_k = correct[:k].view(-1).float().sum(0, keepdim=True)\n",
    "        res.append(correct_k.mul_(100.0 / batch_size))\n",
    "    return res\n",
    "\n",
    "def random_test_image(img_dir, categories):\n",
    "    \"\"\"Pick a random test image from specified dir\"\"\"\n",
    "    c = np.random.choice(categories)\n",
    "    root = img_dir + c + '/'\n",
    "    img_path = root + np.random.choice(os.listdir(root))\n",
    "    print(img_path)\n",
    "    return img_path"
   ]
  },
  {
   "cell_type": "code",
   "execution_count": 35,
   "metadata": {},
   "outputs": [],
   "source": [
    "%matplotlib inline"
   ]
  },
  {
   "cell_type": "code",
   "execution_count": 27,
   "metadata": {},
   "outputs": [],
   "source": [
    "#from helper import *"
   ]
  },
  {
   "cell_type": "code",
   "execution_count": 28,
   "metadata": {},
   "outputs": [],
   "source": [
    "from fastai.vision.all import *\n",
    "import torchvision.models as models"
   ]
  },
  {
   "cell_type": "code",
   "execution_count": 29,
   "metadata": {},
   "outputs": [
    {
     "name": "stdout",
     "output_type": "stream",
     "text": [
      "DeBoer_Step1  DeBoerStep1.tar.gz  hymenoptera_data\r\n"
     ]
    }
   ],
   "source": [
    "!ls ../../data/"
   ]
  },
  {
   "cell_type": "code",
   "execution_count": 30,
   "metadata": {},
   "outputs": [],
   "source": [
    "# setting path variables \n",
    "Path.BASE_PATH = Path('../../data/DeBoer_Step1')\n",
    "Path.BASE_PATH.ls()\n",
    "path = Path.BASE_PATH"
   ]
  },
  {
   "cell_type": "code",
   "execution_count": 31,
   "metadata": {},
   "outputs": [],
   "source": [
    "data = get_dls(128, 224)\n",
    "classes = data.vocab"
   ]
  },
  {
   "cell_type": "code",
   "execution_count": 32,
   "metadata": {},
   "outputs": [
    {
     "data": {
      "text/plain": [
       "<All keys matched successfully>"
      ]
     },
     "execution_count": 32,
     "metadata": {},
     "output_type": "execute_result"
    }
   ],
   "source": [
    "# th architecture to use\n",
    "arch = 'resnet50'\n",
    "\n",
    "# (down)load the pre-trained weights\n",
    "model_weights = '%s_places365.pth.tar' % arch\n",
    "if not os.access(model_weights, os.W_OK):\n",
    "    weight_url = 'http://places2.csail.mit.edu/models_places365/' + model_weights\n",
    "    os.system('wget ' + weight_url)\n",
    "    \n",
    "places_res50 = torch.load(model_weights,  \n",
    "                          map_location=lambda storage, \n",
    "                          loc: storage)\n",
    "\n",
    "default_res50 = models.resnet50()\n",
    "state_dict = places_res50['state_dict'] \n",
    "new_state_dict = OrderedDict()\n",
    "\n",
    "for key in state_dict.keys():\n",
    "    new_state_dict[key[7:]]= state_dict[key]\n",
    "    \n",
    "\n",
    "default_res50.fc = torch.nn.Linear(2048, 365) # Matching with default res50 dense layer\n",
    "default_res50.load_state_dict(new_state_dict)"
   ]
  },
  {
   "cell_type": "code",
   "execution_count": 33,
   "metadata": {},
   "outputs": [],
   "source": [
    "learn = cnn_learner(get_dls(48, 224, augment=True), \n",
    "                    new_resnet,\n",
    "                    #models.resnet34,\n",
    "                    metrics=[top_k_accuracy, \n",
    "                             accuracy,\n",
    "                             error_rate])"
   ]
  },
  {
   "cell_type": "code",
   "execution_count": 34,
   "metadata": {},
   "outputs": [
    {
     "data": {
      "text/html": [],
      "text/plain": [
       "<IPython.core.display.HTML object>"
      ]
     },
     "metadata": {},
     "output_type": "display_data"
    },
    {
     "data": {
      "text/plain": [
       "SuggestedLRs(valley=0.0003981071640737355)"
      ]
     },
     "execution_count": 34,
     "metadata": {},
     "output_type": "execute_result"
    }
   ],
   "source": [
    "learn.lr_find()"
   ]
  },
  {
   "cell_type": "code",
   "execution_count": 36,
   "metadata": {},
   "outputs": [
    {
     "data": {
      "text/html": [
       "<table border=\"1\" class=\"dataframe\">\n",
       "  <thead>\n",
       "    <tr style=\"text-align: left;\">\n",
       "      <th>epoch</th>\n",
       "      <th>train_loss</th>\n",
       "      <th>valid_loss</th>\n",
       "      <th>top_k_accuracy</th>\n",
       "      <th>accuracy</th>\n",
       "      <th>error_rate</th>\n",
       "      <th>time</th>\n",
       "    </tr>\n",
       "  </thead>\n",
       "  <tbody>\n",
       "    <tr>\n",
       "      <td>0</td>\n",
       "      <td>3.451844</td>\n",
       "      <td>2.458093</td>\n",
       "      <td>0.711538</td>\n",
       "      <td>0.434271</td>\n",
       "      <td>0.565729</td>\n",
       "      <td>02:38</td>\n",
       "    </tr>\n",
       "    <tr>\n",
       "      <td>1</td>\n",
       "      <td>2.693963</td>\n",
       "      <td>2.119688</td>\n",
       "      <td>0.771814</td>\n",
       "      <td>0.489093</td>\n",
       "      <td>0.510907</td>\n",
       "      <td>02:38</td>\n",
       "    </tr>\n",
       "    <tr>\n",
       "      <td>2</td>\n",
       "      <td>2.390463</td>\n",
       "      <td>2.048094</td>\n",
       "      <td>0.783869</td>\n",
       "      <td>0.502870</td>\n",
       "      <td>0.497130</td>\n",
       "      <td>02:38</td>\n",
       "    </tr>\n",
       "  </tbody>\n",
       "</table>"
      ],
      "text/plain": [
       "<IPython.core.display.HTML object>"
      ]
     },
     "metadata": {},
     "output_type": "display_data"
    },
    {
     "name": "stdout",
     "output_type": "stream",
     "text": [
      "Better model found at epoch 0 with valid_loss value: 2.4580934047698975.\n",
      "Better model found at epoch 1 with valid_loss value: 2.119688034057617.\n",
      "Better model found at epoch 2 with valid_loss value: 2.048093795776367.\n"
     ]
    }
   ],
   "source": [
    "learn.fit_one_cycle(3, 3e-4, cbs=[SaveModelCallback(monitor='valid_loss', \n",
    "                                                    \n",
    "                                                   fname='deboer_baseline'), \n",
    "                                   EarlyStoppingCallback(monitor='valid_loss', min_delta=0.01, patience=5)])"
   ]
  },
  {
   "cell_type": "code",
   "execution_count": 37,
   "metadata": {},
   "outputs": [
    {
     "data": {
      "text/html": [],
      "text/plain": [
       "<IPython.core.display.HTML object>"
      ]
     },
     "metadata": {},
     "output_type": "display_data"
    },
    {
     "data": {
      "text/plain": [
       "SuggestedLRs(valley=3.630780702224001e-05)"
      ]
     },
     "execution_count": 37,
     "metadata": {},
     "output_type": "execute_result"
    },
    {
     "data": {
      "image/png": "[encoded data removed]",
      "text/plain": [
       "<Figure size 432x288 with 1 Axes>"
      ]
     },
     "metadata": {
      "needs_background": "light"
     },
     "output_type": "display_data"
    }
   ],
   "source": [
    "learn.unfreeze()\n",
    "learn.lr_find()"
   ]
  },
  {
   "cell_type": "code",
   "execution_count": 38,
   "metadata": {},
   "outputs": [
    {
     "data": {
      "text/html": [
       "<table border=\"1\" class=\"dataframe\">\n",
       "  <thead>\n",
       "    <tr style=\"text-align: left;\">\n",
       "      <th>epoch</th>\n",
       "      <th>train_loss</th>\n",
       "      <th>valid_loss</th>\n",
       "      <th>top_k_accuracy</th>\n",
       "      <th>accuracy</th>\n",
       "      <th>error_rate</th>\n",
       "      <th>time</th>\n",
       "    </tr>\n",
       "  </thead>\n",
       "  <tbody>\n",
       "    <tr>\n",
       "      <td>0</td>\n",
       "      <td>2.329588</td>\n",
       "      <td>2.001641</td>\n",
       "      <td>0.790184</td>\n",
       "      <td>0.513203</td>\n",
       "      <td>0.486797</td>\n",
       "      <td>02:46</td>\n",
       "    </tr>\n",
       "    <tr>\n",
       "      <td>1</td>\n",
       "      <td>2.296662</td>\n",
       "      <td>1.914843</td>\n",
       "      <td>0.801665</td>\n",
       "      <td>0.530712</td>\n",
       "      <td>0.469288</td>\n",
       "      <td>02:45</td>\n",
       "    </tr>\n",
       "    <tr>\n",
       "      <td>2</td>\n",
       "      <td>2.125989</td>\n",
       "      <td>1.882268</td>\n",
       "      <td>0.809988</td>\n",
       "      <td>0.536165</td>\n",
       "      <td>0.463835</td>\n",
       "      <td>02:46</td>\n",
       "    </tr>\n",
       "    <tr>\n",
       "      <td>3</td>\n",
       "      <td>2.009099</td>\n",
       "      <td>1.856725</td>\n",
       "      <td>0.811998</td>\n",
       "      <td>0.539036</td>\n",
       "      <td>0.460964</td>\n",
       "      <td>02:46</td>\n",
       "    </tr>\n",
       "    <tr>\n",
       "      <td>4</td>\n",
       "      <td>1.940015</td>\n",
       "      <td>1.834143</td>\n",
       "      <td>0.820034</td>\n",
       "      <td>0.546211</td>\n",
       "      <td>0.453789</td>\n",
       "      <td>02:45</td>\n",
       "    </tr>\n",
       "    <tr>\n",
       "      <td>5</td>\n",
       "      <td>1.929263</td>\n",
       "      <td>1.855405</td>\n",
       "      <td>0.817451</td>\n",
       "      <td>0.545924</td>\n",
       "      <td>0.454076</td>\n",
       "      <td>02:45</td>\n",
       "    </tr>\n",
       "  </tbody>\n",
       "</table>"
      ],
      "text/plain": [
       "<IPython.core.display.HTML object>"
      ]
     },
     "metadata": {},
     "output_type": "display_data"
    }
   ],
   "source": [
    "learn.fit_one_cycle(6,lr_max=slice(1e-5,5e-5))"
   ]
  },
  {
   "cell_type": "code",
   "execution_count": 39,
   "metadata": {},
   "outputs": [],
   "source": [
    "data = get_dls(128, 224)\n",
    "classes = data.vocab"
   ]
  },
  {
   "cell_type": "code",
   "execution_count": 73,
   "metadata": {},
   "outputs": [
    {
     "data": {
      "text/plain": [
       "'historisch_toneelstuk'"
      ]
     },
     "execution_count": 73,
     "metadata": {},
     "output_type": "execute_result"
    }
   ],
   "source": [
    "label_func(random_path)"
   ]
  },
  {
   "cell_type": "code",
   "execution_count": 82,
   "metadata": {},
   "outputs": [
    {
     "data": {
      "text/html": [],
      "text/plain": [
       "<IPython.core.display.HTML object>"
      ]
     },
     "metadata": {},
     "output_type": "display_data"
    },
    {
     "data": {
      "image/png": "[encoded data removed]",
      "text/plain": [
       "<Figure size 1152x360 with 2 Axes>"
      ]
     },
     "metadata": {
      "needs_background": "light"
     },
     "output_type": "display_data"
    }
   ],
   "source": [
    "valid_paths = data.valid_ds.items\n",
    "random_path = random.choice(valid_paths)\n",
    "label, y, output = learn.predict(random_path)\n",
    "img = Image.open(random_path)\n",
    "img = img.resize((256, 256))\n",
    "probs, preds = output.topk(5)\n",
    "top_classes = [classes[i] for i in preds]\n",
    "top5 = list(probs)\n",
    "result = pd.DataFrame({'p': probs}, index=top_classes)\n",
    "\n",
    "\n",
    "plt.figure(figsize=(16,5))\n",
    "ax = plt.subplot(1, 2, 1)\n",
    "ax.set_title(label_func(random_path), size=20)\n",
    "ax = plt.imshow(img, cmap='gray')\n",
    "\n",
    "plt.axis('off')\n",
    "ax = plt.subplot(1, 2, 2)\n",
    "result.sort_values('p')['p'].plot.barh(color='blue', edgecolor='k', ax=ax)\n",
    "plt.xlabel('Predicted probabilities')\n",
    "plt.tight_layout()\n",
    "plt.savefig('dining_room.png', dpi=300, bbox_inches='tight')"
   ]
  },
  {
   "cell_type": "code",
   "execution_count": 43,
   "metadata": {},
   "outputs": [
    {
     "data": {
      "text/html": [],
      "text/plain": [
       "<IPython.core.display.HTML object>"
      ]
     },
     "metadata": {},
     "output_type": "display_data"
    }
   ],
   "source": [
    "interp = ClassificationInterpretation.from_learner(learn)"
   ]
  },
  {
   "cell_type": "code",
   "execution_count": 53,
   "metadata": {},
   "outputs": [
    {
     "data": {
      "text/plain": [
       "[('uitreiking_huldiging', 'groepsportret', 15),\n",
       " ('boten', 'haven', 13),\n",
       " ('portret', 'uitreiking_huldiging', 13),\n",
       " ('dieren_overig', 'portret', 10),\n",
       " ('groepsportret', 'portret', 10),\n",
       " ('groepsportret', 'uitreiking_huldiging', 10),\n",
       " ('portret', 'kantoor', 10),\n",
       " ('woonwijk', 'gebouw', 10),\n",
       " ('ontvangst_afscheid', 'uitreiking_huldiging', 9),\n",
       " ('bouwplaats', 'gebouw', 8),\n",
       " ('straat', 'gebouw', 8),\n",
       " ('uitreiking_huldiging', 'portret', 8),\n",
       " ('bouwplaats', 'woonwijk', 7),\n",
       " ('fabriek', 'bouwplaats', 7),\n",
       " ('gebouw', 'bouwplaats', 7),\n",
       " ('hockey', 'voetbal', 7),\n",
       " ('brug', 'bouwplaats', 6),\n",
       " ('portret', 'kunstwerk', 6),\n",
       " ('portret', 'tentoonstelling', 6),\n",
       " ('speech', 'muziek_optreden', 6),\n",
       " ('straat', 'bouwplaats', 6),\n",
       " ('bus_truck', 'portret', 5),\n",
       " ('dansende_mensen', 'muziek_optreden', 5),\n",
       " ('fietsende_mensen', 'straat', 5),\n",
       " ('haven', 'boten', 5),\n",
       " ('kantoor', 'portret', 5),\n",
       " ('markt', 'mensenmassa', 5),\n",
       " ('markt', 'winkel_binnen', 5),\n",
       " ('mensenmassa', 'optocht', 5),\n",
       " ('muziek_optreden', 'markt', 5),\n",
       " ('muziek_optreden', 'portret', 5),\n",
       " ('muziek_optreden', 'uitreiking_huldiging', 5),\n",
       " ('portret', 'bouwplaats', 5),\n",
       " ('portret', 'gebouw', 5),\n",
       " ('portret', 'straat', 5),\n",
       " ('schaken_dammen', 'vergaderruimte', 5),\n",
       " ('speech', 'groepsportret', 5),\n",
       " ('speech', 'portret', 5),\n",
       " ('speech', 'uitreiking_huldiging', 5),\n",
       " ('speech', 'vergaderruimte', 5),\n",
       " ('vijver_plas', 'waterweg', 5),\n",
       " ('woonkamer', 'uitreiking_huldiging', 5),\n",
       " ('ziekenhuis', 'portret', 5)]"
      ]
     },
     "execution_count": 53,
     "metadata": {},
     "output_type": "execute_result"
    }
   ],
   "source": [
    "interp.most_confused(min_val=5)"
   ]
  },
  {
   "cell_type": "code",
   "execution_count": 54,
   "metadata": {},
   "outputs": [
    {
     "name": "stdout",
     "output_type": "stream",
     "text": [
      "                        precision    recall  f1-score   support\n",
      "\n",
      "                 akker       0.69      0.65      0.67        17\n",
      "           amfitheater       1.00      0.33      0.50         6\n",
      "                  aula       0.21      0.25      0.23        16\n",
      "                  auto       0.47      0.64      0.54        11\n",
      "          auto_ongeluk       0.71      0.23      0.34        22\n",
      "              bakkerij       0.00      0.00      0.00         9\n",
      "     basketbal_korfbal       0.73      0.62      0.67        13\n",
      "         begraafplaats       0.00      0.00      0.00         3\n",
      "            begrafenis       0.00      0.00      0.00         7\n",
      "bibliotheek_boekwinkel       0.78      0.47      0.58        15\n",
      "               biljart       0.00      0.00      0.00         1\n",
      "        binnen_zwembad       0.70      0.54      0.61        13\n",
      "               bloemen       0.43      0.19      0.26        16\n",
      "           bloementuin       0.83      0.50      0.62        10\n",
      "                boksen       0.00      0.00      0.00         2\n",
      "     borden_gevelsteen       0.43      0.36      0.39        33\n",
      "              bos_park       0.46      0.41      0.43        27\n",
      "                 boten       0.62      0.68      0.65        60\n",
      "            bouwplaats       0.56      0.74      0.64       167\n",
      "                 brand       0.61      0.56      0.58        54\n",
      "             brandweer       0.00      0.00      0.00         0\n",
      "                  brug       0.29      0.20      0.24        20\n",
      "              bruiloft       0.17      0.10      0.12        10\n",
      "        buiten_zwembad       0.43      0.33      0.38         9\n",
      "             bus_truck       0.66      0.60      0.62        42\n",
      "                  cafe       0.36      0.28      0.31        29\n",
      "                casino       0.00      0.00      0.00         0\n",
      "               catwalk       1.00      0.33      0.50         3\n",
      "                circus       0.75      0.55      0.63        22\n",
      "               cricket       0.60      1.00      0.75        12\n",
      "       dansende_mensen       0.38      0.22      0.28        23\n",
      "          demonstratie       0.55      0.50      0.52        34\n",
      "         dieren_overig       0.35      0.17      0.23        41\n",
      "                duinen       0.42      0.29      0.34        17\n",
      "                  eend       0.00      0.00      0.00         3\n",
      "               etalage       0.54      0.68      0.60        19\n",
      "         etende_mensen       0.43      0.71      0.54        35\n",
      "               fabriek       0.41      0.56      0.47        52\n",
      "      fietsende_mensen       0.50      0.54      0.52        26\n",
      "       garage_showroom       1.00      0.45      0.62        11\n",
      "                gebouw       0.64      0.83      0.72       155\n",
      "          geestelijken       0.67      0.12      0.21        16\n",
      "                  golf       0.00      0.00      0.00         3\n",
      "         groepsportret       0.41      0.52      0.45       112\n",
      "            gymnastiek       0.54      0.43      0.48        30\n",
      "               handbal       0.33      0.11      0.17         9\n",
      "             hardlopen       0.00      0.00      0.00         7\n",
      "                 haven       0.39      0.56      0.46        32\n",
      "            helicopter       0.00      0.00      0.00         1\n",
      "            herdenking       0.40      0.36      0.38        11\n",
      " historisch_toneelstuk       0.00      0.00      0.00         7\n",
      "                hockey       0.33      0.20      0.25        10\n",
      "                  hond       0.56      0.47      0.51        19\n",
      "               honkbal       0.86      0.73      0.79        59\n",
      "                huisje       0.18      0.15      0.17        13\n",
      "             kaartspel       0.00      0.00      0.00         1\n",
      "            kaartspel        0.00      0.00      0.00         3\n",
      "                  kade       0.40      0.18      0.25        11\n",
      "              kamperen       0.50      0.22      0.31         9\n",
      "               kantoor       0.41      0.58      0.48        38\n",
      "                kapper       0.00      0.00      0.00         9\n",
      "           kerk_binnen       0.59      0.68      0.63        19\n",
      "           kerk_buiten       0.54      0.39      0.45        18\n",
      "                kermis       0.00      0.00      0.00         0\n",
      "              kerstmis       0.00      0.00      0.00         5\n",
      "                keuken       0.33      0.36      0.34        14\n",
      "            klaslokaal       0.28      0.45      0.35        29\n",
      "                   koe       0.00      0.00      0.00         5\n",
      "                konijn       0.00      0.00      0.00         1\n",
      "           koningshuis       0.00      0.00      0.00         0\n",
      "               kostuum       0.00      0.00      0.00         3\n",
      "             kunstwerk       0.50      0.65      0.56        51\n",
      "             luchtfoto       0.81      0.87      0.84        15\n",
      "              maquette       0.40      0.22      0.29         9\n",
      "                 markt       0.54      0.37      0.44        51\n",
      "    mensen_op_een_boot       0.20      0.11      0.14        18\n",
      "        mensen_op_trap       0.00      0.00      0.00         4\n",
      "           mensenmassa       0.38      0.53      0.44        57\n",
      "              militair       0.50      0.44      0.47         9\n",
      "            motorfiets       0.00      0.00      0.00         8\n",
      "       muziek_optreden       0.50      0.50      0.50       104\n",
      "      ongeluk_brancard       0.00      0.00      0.00         5\n",
      "    ontvangst_afscheid       0.00      0.00      0.00        17\n",
      "             opgraving       1.00      0.25      0.40         4\n",
      "               optocht       0.47      0.44      0.45        34\n",
      "                 paard       0.62      0.68      0.65        22\n",
      "           plattegrond       0.00      0.00      0.00         4\n",
      "               portret       0.67      0.74      0.70       360\n",
      "                  race       0.57      0.31      0.40        13\n",
      "                roeien       0.20      0.20      0.20         5\n",
      "                 rugby       0.00      0.00      0.00         1\n",
      "             schaatsen       0.68      0.76      0.72        17\n",
      "        schaken_dammen       0.71      0.43      0.53        28\n",
      "           scheepswerf       0.80      0.44      0.57         9\n",
      "           sinterklaas       0.51      0.53      0.52        45\n",
      "              slagerij       1.00      0.36      0.53        11\n",
      "       sneeuwlandschap       0.75      0.38      0.50        24\n",
      "                speech       0.33      0.09      0.14        46\n",
      "             speeltuin       0.12      0.10      0.11        10\n",
      "              spoorweg       0.00      0.00      0.00         2\n",
      "          sport_overig       0.00      0.00      0.00         5\n",
      "            standbeeld       0.52      0.50      0.51        28\n",
      "            stemlokaal       0.00      0.00      0.00         2\n",
      "                straat       0.40      0.52      0.45        81\n",
      "                strand       0.48      0.71      0.57        31\n",
      "          tafel_tennis       0.00      0.00      0.00         4\n",
      "                tennis       0.00      0.00      0.00         2\n",
      "       tentoonstelling       0.54      0.52      0.53        54\n",
      "                terras       0.00      0.00      0.00         6\n",
      "               theater       0.40      0.34      0.37        35\n",
      "                 toren       0.75      0.75      0.75         8\n",
      "                  tram       0.50      0.20      0.29         5\n",
      "                 trein       0.83      0.71      0.77         7\n",
      "         trein_ongeluk       0.90      0.90      0.90        10\n",
      "         trein_station       1.00      0.17      0.29         6\n",
      "  uitreiking_huldiging       0.54      0.68      0.60       152\n",
      "            vechtsport       0.00      0.00      0.00         5\n",
      "        vergaderruimte       0.57      0.71      0.63        65\n",
      "           vijver_plas       0.25      0.08      0.12        13\n",
      "              visserij       1.00      0.13      0.24        15\n",
      "           vlag_hijsen       0.00      0.00      0.00         5\n",
      "             vliegtuig       1.00      0.50      0.67         2\n",
      "               voetbal       0.87      0.88      0.87       160\n",
      "          voetbal_team       0.89      0.89      0.89        19\n",
      "             volleybal       0.67      0.75      0.71         8\n",
      "           vuilnisbelt       0.00      0.00      0.00         0\n",
      "             water_ski       0.00      0.00      0.00         0\n",
      "             waterpolo       0.00      0.00      0.00         1\n",
      "              waterweg       0.41      0.88      0.56        17\n",
      "            wielrennen       0.33      0.17      0.22        12\n",
      "             windmolen       0.90      0.75      0.82        12\n",
      "            windsurfen       0.00      0.00      0.00         1\n",
      "         winkel_binnen       0.40      0.59      0.47        46\n",
      "          winkelstraat       0.56      0.54      0.55        26\n",
      "             woonkamer       0.31      0.32      0.32        28\n",
      "              woonwijk       0.47      0.44      0.46        41\n",
      "           zaalvoetbal       0.44      1.00      0.62         8\n",
      "        zeepkistenrace       0.00      0.00      0.00         1\n",
      "            ziekenhuis       0.36      0.29      0.32        17\n",
      "                 zwaan       0.00      0.00      0.00         4\n",
      "\n",
      "             micro avg       0.55      0.55      0.55      3484\n",
      "             macro avg       0.39      0.33      0.34      3484\n",
      "          weighted avg       0.53      0.55      0.52      3484\n",
      "\n"
     ]
    },
    {
     "name": "stderr",
     "output_type": "stream",
     "text": [
      "/home/mjwever/.local/lib/python3.9/site-packages/sklearn/metrics/_classification.py:1318: UndefinedMetricWarning: Precision and F-score are ill-defined and being set to 0.0 in labels with no predicted samples. Use `zero_division` parameter to control this behavior.\n",
      "  _warn_prf(average, modifier, msg_start, len(result))\n",
      "/home/mjwever/.local/lib/python3.9/site-packages/sklearn/metrics/_classification.py:1318: UndefinedMetricWarning: Recall and F-score are ill-defined and being set to 0.0 in labels with no true samples. Use `zero_division` parameter to control this behavior.\n",
      "  _warn_prf(average, modifier, msg_start, len(result))\n",
      "/home/mjwever/.local/lib/python3.9/site-packages/sklearn/metrics/_classification.py:1318: UndefinedMetricWarning: Precision and F-score are ill-defined and being set to 0.0 in labels with no predicted samples. Use `zero_division` parameter to control this behavior.\n",
      "  _warn_prf(average, modifier, msg_start, len(result))\n",
      "/home/mjwever/.local/lib/python3.9/site-packages/sklearn/metrics/_classification.py:1318: UndefinedMetricWarning: Recall and F-score are ill-defined and being set to 0.0 in labels with no true samples. Use `zero_division` parameter to control this behavior.\n",
      "  _warn_prf(average, modifier, msg_start, len(result))\n",
      "/home/mjwever/.local/lib/python3.9/site-packages/sklearn/metrics/_classification.py:1318: UndefinedMetricWarning: Precision and F-score are ill-defined and being set to 0.0 in labels with no predicted samples. Use `zero_division` parameter to control this behavior.\n",
      "  _warn_prf(average, modifier, msg_start, len(result))\n",
      "/home/mjwever/.local/lib/python3.9/site-packages/sklearn/metrics/_classification.py:1318: UndefinedMetricWarning: Recall and F-score are ill-defined and being set to 0.0 in labels with no true samples. Use `zero_division` parameter to control this behavior.\n",
      "  _warn_prf(average, modifier, msg_start, len(result))\n"
     ]
    }
   ],
   "source": [
    "interp.print_classification_report()"
   ]
  },
  {
   "cell_type": "code",
   "execution_count": 33,
   "metadata": {},
   "outputs": [
    {
     "data": {
      "text/plain": [
       "Path('models/DeBoer_places.pth')"
      ]
     },
     "execution_count": 33,
     "metadata": {},
     "output_type": "execute_result"
    }
   ],
   "source": [
    "learn.save('DeBoer_places')"
   ]
  },
  {
   "cell_type": "code",
   "execution_count": 45,
   "metadata": {},
   "outputs": [],
   "source": [
    "learn = cnn_learner(get_dls(128, 224, augment=True), \n",
    "                    new_resnet,\n",
    "                    #models.resnet34,\n",
    "                    metrics=[top_k_accuracy, \n",
    "                             accuracy,\n",
    "                             error_rate])"
   ]
  },
  {
   "cell_type": "code",
   "execution_count": 46,
   "metadata": {},
   "outputs": [
    {
     "data": {
      "text/plain": [
       "<fastai.learner.Learner at 0x7fa5787624c0>"
      ]
     },
     "execution_count": 46,
     "metadata": {},
     "output_type": "execute_result"
    }
   ],
   "source": [
    "learn.load('DeBoer_places')"
   ]
  },
  {
   "cell_type": "code",
   "execution_count": 47,
   "metadata": {},
   "outputs": [
    {
     "data": {
      "text/html": [],
      "text/plain": [
       "<IPython.core.display.HTML object>"
      ]
     },
     "metadata": {},
     "output_type": "display_data"
    }
   ],
   "source": [
    "label, y, output = learn.predict('../../MelvinWevers#9512/DeBoer_Train/auto_ongeluk/NL-HlmNHA_1478_08130_G.jpg')"
   ]
  },
  {
   "cell_type": "code",
   "execution_count": null,
   "metadata": {},
   "outputs": [],
   "source": []
  },
  {
   "cell_type": "code",
   "execution_count": 34,
   "metadata": {},
   "outputs": [],
   "source": [
    "learn.export('./models/DeBoer_places.pkl')"
   ]
  },
  {
   "cell_type": "code",
   "execution_count": 48,
   "metadata": {},
   "outputs": [],
   "source": [
    "probs, preds = output.topk(5)\n",
    "top_classes = [classes[i] for i in preds]\n",
    "top5 = list(probs)\n",
    "result = pd.DataFrame({'p': probs}, index=top_classes)"
   ]
  },
  {
   "cell_type": "code",
   "execution_count": 49,
   "metadata": {},
   "outputs": [
    {
     "data": {
      "text/html": [
       "<div>\n",
       "<style scoped>\n",
       "    .dataframe tbody tr th:only-of-type {\n",
       "        vertical-align: middle;\n",
       "    }\n",
       "\n",
       "    .dataframe tbody tr th {\n",
       "        vertical-align: top;\n",
       "    }\n",
       "\n",
       "    .dataframe thead th {\n",
       "        text-align: right;\n",
       "    }\n",
       "</style>\n",
       "<table border=\"1\" class=\"dataframe\">\n",
       "  <thead>\n",
       "    <tr style=\"text-align: right;\">\n",
       "      <th></th>\n",
       "      <th>p</th>\n",
       "    </tr>\n",
       "  </thead>\n",
       "  <tbody>\n",
       "    <tr>\n",
       "      <th>auto_ongeluk</th>\n",
       "      <td>0.851779</td>\n",
       "    </tr>\n",
       "    <tr>\n",
       "      <th>auto</th>\n",
       "      <td>0.053180</td>\n",
       "    </tr>\n",
       "    <tr>\n",
       "      <th>trein_ongeluk</th>\n",
       "      <td>0.019182</td>\n",
       "    </tr>\n",
       "    <tr>\n",
       "      <th>akker</th>\n",
       "      <td>0.019047</td>\n",
       "    </tr>\n",
       "    <tr>\n",
       "      <th>kamperen</th>\n",
       "      <td>0.018278</td>\n",
       "    </tr>\n",
       "  </tbody>\n",
       "</table>\n",
       "</div>"
      ],
      "text/plain": [
       "                      p\n",
       "auto_ongeluk   0.851779\n",
       "auto           0.053180\n",
       "trein_ongeluk  0.019182\n",
       "akker          0.019047\n",
       "kamperen       0.018278"
      ]
     },
     "execution_count": 49,
     "metadata": {},
     "output_type": "execute_result"
    }
   ],
   "source": [
    "result"
   ]
  },
  {
   "cell_type": "code",
   "execution_count": 40,
   "metadata": {},
   "outputs": [],
   "source": [
    "def make_prediction(path, topk=5):\n",
    "    output_ = {}\n",
    "    label, y, output = learner.predict(path)\n",
    "    probs, preds = output.topk(125)\n",
    "    for index, class_ in enumerate(preds):\n",
    "        output_[classes[class_]] = round(float(probs[index]),4)\n",
    "    return output_"
   ]
  },
  {
   "cell_type": "code",
   "execution_count": 35,
   "metadata": {},
   "outputs": [],
   "source": [
    "learner = load_learner('./models/DeBoer_places.pkl')"
   ]
  },
  {
   "cell_type": "code",
   "execution_count": 44,
   "metadata": {},
   "outputs": [
    {
     "data": {
      "text/html": [],
      "text/plain": [
       "<IPython.core.display.HTML object>"
      ]
     },
     "metadata": {},
     "output_type": "display_data"
    },
    {
     "data": {
      "text/plain": [
       "{'slagerij': 0.1767,\n",
       " 'circus': 0.1187,\n",
       " 'vlag_hijsen': 0.0552,\n",
       " 'duinen': 0.0462,\n",
       " 'zeepkistenrace': 0.0284,\n",
       " 'markt': 0.0275,\n",
       " 'theater': 0.0264,\n",
       " 'motorfiets': 0.0256,\n",
       " 'tafel_tennis': 0.0204,\n",
       " 'dieren_overig': 0.0202,\n",
       " 'rugby': 0.0171,\n",
       " 'handbal': 0.0171,\n",
       " 'schaken_dammen': 0.0171,\n",
       " 'zwaan': 0.0166,\n",
       " 'herdenking': 0.0148,\n",
       " 'windmolen': 0.014,\n",
       " 'bos_park': 0.0139,\n",
       " 'water_ski': 0.0136,\n",
       " 'hockey': 0.0134,\n",
       " 'geestelijken': 0.0132,\n",
       " 'tennis': 0.0117,\n",
       " 'zaalvoetbal': 0.0115,\n",
       " 'koe': 0.0102,\n",
       " 'fabriek': 0.0097,\n",
       " 'uitreiking_huldiging': 0.0092,\n",
       " 'trein_ongeluk': 0.0091,\n",
       " 'sneeuwlandschap': 0.0084,\n",
       " 'vergaderruimte': 0.0082,\n",
       " 'wielrennen': 0.008,\n",
       " 'buiten_zwembad': 0.0077,\n",
       " 'cafe': 0.0075,\n",
       " 'dansende_mensen': 0.0074,\n",
       " 'demonstratie': 0.0073,\n",
       " 'cricket': 0.0067,\n",
       " 'begraafplaats': 0.0059,\n",
       " 'konijn': 0.0053,\n",
       " 'terras': 0.0053,\n",
       " 'trein': 0.0051,\n",
       " 'straat': 0.005,\n",
       " 'begrafenis': 0.0049,\n",
       " 'bloementuin': 0.0045,\n",
       " 'sinterklaas': 0.0045,\n",
       " 'groepsportret': 0.0044,\n",
       " 'tram': 0.0044,\n",
       " 'luchtfoto': 0.0043,\n",
       " 'kermis': 0.0043,\n",
       " 'kerstmis': 0.0041,\n",
       " 'schaatsen': 0.004,\n",
       " 'vijver_plas': 0.004,\n",
       " 'maquette': 0.0039,\n",
       " 'roeien': 0.0039,\n",
       " 'speech': 0.0039,\n",
       " 'portret': 0.0036,\n",
       " 'woonkamer': 0.0036,\n",
       " 'bibliotheek_boekwinkel': 0.0034,\n",
       " 'bus_truck': 0.0034,\n",
       " 'bloemen': 0.0033,\n",
       " 'volleybal': 0.0032,\n",
       " 'gymnastiek': 0.003,\n",
       " 'borden_gevelsteen': 0.0029,\n",
       " 'etalage': 0.0029,\n",
       " 'plattegrond': 0.0028,\n",
       " 'winkelstraat': 0.0028,\n",
       " 'fietsende_mensen': 0.0025,\n",
       " 'kerk': 0.0025,\n",
       " 'basketbal_korfbal': 0.0024,\n",
       " 'catwalk': 0.0023,\n",
       " 'hond': 0.0023,\n",
       " 'voetbal_team': 0.0023,\n",
       " 'etende_mensen': 0.0021,\n",
       " 'waterpolo': 0.002,\n",
       " 'waterweg': 0.002,\n",
       " 'kapper': 0.002,\n",
       " 'bakkerij': 0.0019,\n",
       " 'keuken': 0.0019,\n",
       " 'tentoonstelling': 0.0018,\n",
       " 'mensen_massa': 0.0017,\n",
       " 'gemeentehuis': 0.0017,\n",
       " 'brug': 0.0016,\n",
       " 'huisje': 0.0016,\n",
       " 'bouwplaats': 0.0016,\n",
       " 'ziekenhuis': 0.0015,\n",
       " 'optocht': 0.0015,\n",
       " 'auto_ongeluk': 0.0014,\n",
       " 'woonwijk': 0.0014,\n",
       " 'haven': 0.0014,\n",
       " 'hardlopen': 0.0014,\n",
       " 'akker': 0.0014,\n",
       " 'boten': 0.0011,\n",
       " 'boksen': 0.001,\n",
       " 'eend': 0.001,\n",
       " 'bruiloft': 0.001,\n",
       " 'voetbal': 0.0009,\n",
       " 'brand': 0.0009,\n",
       " 'ontvangst_afscheid': 0.0009,\n",
       " 'kunstwerk': 0.0008,\n",
       " 'trein_station': 0.0008,\n",
       " 'klaslokaal': 0.0008,\n",
       " 'muziek_optreden': 0.0007,\n",
       " 'visserij': 0.0007,\n",
       " 'kade': 0.0007,\n",
       " 'militair': 0.0006,\n",
       " 'winkel_binnen': 0.0006,\n",
       " 'gebouw': 0.0005,\n",
       " 'kaartspel': 0.0005,\n",
       " 'auto': 0.0005,\n",
       " 'mensen_op_een_boot': 0.0004,\n",
       " 'historisch_toneelstuk': 0.0004,\n",
       " 'speeltuin': 0.0004,\n",
       " 'paard': 0.0004,\n",
       " 'amfitheater': 0.0003,\n",
       " 'toren': 0.0003,\n",
       " 'scheepswerf': 0.0003,\n",
       " 'binnen_zwembad': 0.0003,\n",
       " 'race': 0.0002,\n",
       " 'honkbal': 0.0002,\n",
       " 'kamperen': 0.0002,\n",
       " 'ongeluk_brancard': 0.0002,\n",
       " 'opgraving': 0.0002,\n",
       " 'garage_showroom': 0.0002,\n",
       " 'standbeeld': 0.0002,\n",
       " 'strand': 0.0002,\n",
       " 'kantoor': 0.0001,\n",
       " 'aula': 0.0001,\n",
       " 'kerk_binnen': 0.0001}"
      ]
     },
     "execution_count": 44,
     "metadata": {},
     "output_type": "execute_result"
    }
   ],
   "source": [
    "make_prediction('../../MelvinWevers#9512/DeBoer_Train/bruiloft/NL-HlmNHA_1478_08555_G.jpg')"
   ]
  },
  {
   "cell_type": "code",
   "execution_count": null,
   "metadata": {},
   "outputs": [],
   "source": []
  }
 ],
 "metadata": {
  "kernelspec": {
   "display_name": "Python 3 (ipykernel)",
   "language": "python",
   "name": "python3"
  },
  "language_info": {
   "codemirror_mode": {
    "name": "ipython",
    "version": 3
   },
   "file_extension": ".py",
   "mimetype": "text/x-python",
   "name": "python",
   "nbconvert_exporter": "python",
   "pygments_lexer": "ipython3",
   "version": "3.9.5"
  }
 },
 "nbformat": 4,
 "nbformat_minor": 4
}
