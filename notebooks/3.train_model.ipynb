{
 "cells": [
  {
   "cell_type": "code",
   "execution_count": 18,
   "metadata": {},
   "outputs": [],
   "source": [
    "# helper functions for fast.ai\n",
    "\n",
    "# def plot_function(f, tx=None, ty=None, title=None, min=-2, max=2, figsize=(6,4)):\n",
    "#     x = torch.linspace(min,max)\n",
    "#     fig,ax = plt.subplots(figsize=figsize)\n",
    "#     ax.plot(x,f(x))\n",
    "#     if tx is not None: ax.set_xlabel(tx)\n",
    "#     if ty is not None: ax.set_ylabel(ty)\n",
    "#     if title is not None: ax.set_title(title)\n",
    "        \n",
    "        \n",
    "def label_func(fname):\n",
    "    '''\n",
    "    function to grab folder name as label name\n",
    "    '''\n",
    "    return fname.parent.name\n",
    "\n",
    "def get_dls(bs, size, augment=True):\n",
    "    '''\n",
    "    function to get datablocks\n",
    "    '''\n",
    "    if augment:\n",
    "        batch_tfms=[*aug_transforms(size=size, \n",
    "                                    do_flip=True, \n",
    "                                    max_rotate = 10.0, \n",
    "                                    max_zoom=1.1, \n",
    "                                    min_scale=0.75), \n",
    "                    Normalize.from_stats(*imagenet_stats)]\n",
    "    else:\n",
    "        batch_tfms=[*aug_transforms(size=size, min_scale=0.75), Normalize.from_stats(*imagenet_stats)]\n",
    "        \n",
    "    dblock = DataBlock(blocks = (ImageBlock, CategoryBlock),\n",
    "                       get_items=get_image_files, \n",
    "                       splitter=RandomSplitter(seed=42),\n",
    "                       get_y=label_func,\n",
    "                       item_tfms=Resize(460),\n",
    "                       batch_tfms=batch_tfms)\n",
    "    return dblock.dataloaders(path, bs=128)\n",
    "\n",
    "\n",
    "def new_resnet(pretrained):\n",
    "    '''\n",
    "    fix for cnn_learner module using non-standard pre-trained models\n",
    "    '''\n",
    "    return default_res50\n",
    "\n",
    "def accuracy_topk(output, target, topk=(3,)):\n",
    "    \"\"\"Computes the precision@k for the specified values of k\"\"\"\n",
    "    maxk = max(topk)\n",
    "    batch_size = target.size(0)\n",
    "\n",
    "    _, pred = output.topk(maxk, 1, True, True)\n",
    "    pred = pred.t()\n",
    "    correct = pred.eq(target.view(1, -1).expand_as(pred))\n",
    "\n",
    "    res = []\n",
    "    for k in topk:\n",
    "        correct_k = correct[:k].view(-1).float().sum(0, keepdim=True)\n",
    "        res.append(correct_k.mul_(100.0 / batch_size))\n",
    "    return res\n",
    "\n",
    "def random_test_image(img_dir, categories):\n",
    "    \"\"\"Pick a random test image from specified dir\"\"\"\n",
    "    c = np.random.choice(categories)\n",
    "    root = img_dir + c + '/'\n",
    "    img_path = root + np.random.choice(os.listdir(root))\n",
    "    print(img_path)\n",
    "    return img_path"
   ]
  },
  {
   "cell_type": "code",
   "execution_count": 19,
   "metadata": {},
   "outputs": [],
   "source": [
    "#from helper import *"
   ]
  },
  {
   "cell_type": "code",
   "execution_count": 20,
   "metadata": {},
   "outputs": [],
   "source": [
    "from fastai.vision.all import *\n",
    "import torchvision.models as models"
   ]
  },
  {
   "cell_type": "code",
   "execution_count": 21,
   "metadata": {},
   "outputs": [],
   "source": [
    "# setting path variables \n",
    "Path.BASE_PATH = Path('../../MelvinWevers#9512/DeBoer_Train')\n",
    "Path.BASE_PATH.ls()\n",
    "path = Path.BASE_PATH"
   ]
  },
  {
   "cell_type": "code",
   "execution_count": 22,
   "metadata": {},
   "outputs": [],
   "source": [
    "data = get_dls(128, 224)\n",
    "classes = data.vocab"
   ]
  },
  {
   "cell_type": "code",
   "execution_count": 23,
   "metadata": {},
   "outputs": [
    {
     "data": {
      "text/plain": [
       "<All keys matched successfully>"
      ]
     },
     "execution_count": 23,
     "metadata": {},
     "output_type": "execute_result"
    }
   ],
   "source": [
    "# th architecture to use\n",
    "arch = 'resnet50'\n",
    "\n",
    "# (down)load the pre-trained weights\n",
    "model_weights = '%s_places365.pth.tar' % arch\n",
    "if not os.access(model_weights, os.W_OK):\n",
    "    weight_url = 'http://places2.csail.mit.edu/models_places365/' + model_weights\n",
    "    os.system('wget ' + weight_url)\n",
    "    \n",
    "places_res50 = torch.load(model_weights,  \n",
    "                          map_location=lambda storage, \n",
    "                          loc: storage)\n",
    "\n",
    "default_res50 = models.resnet50()\n",
    "state_dict = places_res50['state_dict'] \n",
    "new_state_dict = OrderedDict()\n",
    "\n",
    "for key in state_dict.keys():\n",
    "    new_state_dict[key[7:]]= state_dict[key]\n",
    "    \n",
    "\n",
    "default_res50.fc = torch.nn.Linear(2048, 365) # Matching with default res50 dense layer\n",
    "default_res50.load_state_dict(new_state_dict)"
   ]
  },
  {
   "cell_type": "code",
   "execution_count": 24,
   "metadata": {},
   "outputs": [
    {
     "data": {
      "text/plain": [
       "<function __main__.new_resnet(pretrained)>"
      ]
     },
     "execution_count": 24,
     "metadata": {},
     "output_type": "execute_result"
    }
   ],
   "source": [
    "new_resnet"
   ]
  },
  {
   "cell_type": "code",
   "execution_count": 26,
   "metadata": {},
   "outputs": [
    {
     "name": "stderr",
     "output_type": "stream",
     "text": [
      "/opt/conda/lib/python3.9/site-packages/torch/nn/functional.py:718: UserWarning: Named tensors and all their associated APIs are an experimental feature and subject to change. Please do not use them for anything important until they are released as stable. (Triggered internally at  /pytorch/c10/core/TensorImpl.h:1156.)\n",
      "  return torch.max_pool2d(input, kernel_size, stride, padding, dilation, ceil_mode)\n"
     ]
    }
   ],
   "source": [
    "learn = cnn_learner(get_dls(128, 224, augment=True), \n",
    "                    new_resnet,\n",
    "                    #models.resnet34,\n",
    "                    metrics=[top_k_accuracy, \n",
    "                             accuracy,\n",
    "                             error_rate])"
   ]
  },
  {
   "cell_type": "code",
   "execution_count": 27,
   "metadata": {},
   "outputs": [
    {
     "data": {
      "text/html": [
       "<table border=\"1\" class=\"dataframe\">\n",
       "  <thead>\n",
       "    <tr style=\"text-align: left;\">\n",
       "      <th>epoch</th>\n",
       "      <th>train_loss</th>\n",
       "      <th>valid_loss</th>\n",
       "      <th>top_k_accuracy</th>\n",
       "      <th>accuracy</th>\n",
       "      <th>error_rate</th>\n",
       "      <th>time</th>\n",
       "    </tr>\n",
       "  </thead>\n",
       "  <tbody>\n",
       "    <tr>\n",
       "      <td>0</td>\n",
       "      <td>4.786984</td>\n",
       "      <td>2.931188</td>\n",
       "      <td>0.602410</td>\n",
       "      <td>0.362714</td>\n",
       "      <td>0.637286</td>\n",
       "      <td>00:29</td>\n",
       "    </tr>\n",
       "    <tr>\n",
       "      <td>1</td>\n",
       "      <td>3.643583</td>\n",
       "      <td>2.208919</td>\n",
       "      <td>0.748256</td>\n",
       "      <td>0.472416</td>\n",
       "      <td>0.527584</td>\n",
       "      <td>00:28</td>\n",
       "    </tr>\n",
       "    <tr>\n",
       "      <td>2</td>\n",
       "      <td>2.878746</td>\n",
       "      <td>1.863756</td>\n",
       "      <td>0.809765</td>\n",
       "      <td>0.531389</td>\n",
       "      <td>0.468611</td>\n",
       "      <td>00:28</td>\n",
       "    </tr>\n",
       "    <tr>\n",
       "      <td>3</td>\n",
       "      <td>2.370908</td>\n",
       "      <td>1.693416</td>\n",
       "      <td>0.836398</td>\n",
       "      <td>0.561192</td>\n",
       "      <td>0.438808</td>\n",
       "      <td>00:28</td>\n",
       "    </tr>\n",
       "    <tr>\n",
       "      <td>4</td>\n",
       "      <td>2.008592</td>\n",
       "      <td>1.647455</td>\n",
       "      <td>0.845276</td>\n",
       "      <td>0.581484</td>\n",
       "      <td>0.418516</td>\n",
       "      <td>00:28</td>\n",
       "    </tr>\n",
       "    <tr>\n",
       "      <td>5</td>\n",
       "      <td>1.765552</td>\n",
       "      <td>1.585696</td>\n",
       "      <td>0.859226</td>\n",
       "      <td>0.616994</td>\n",
       "      <td>0.383006</td>\n",
       "      <td>00:28</td>\n",
       "    </tr>\n",
       "    <tr>\n",
       "      <td>6</td>\n",
       "      <td>1.583516</td>\n",
       "      <td>1.590496</td>\n",
       "      <td>0.852251</td>\n",
       "      <td>0.595434</td>\n",
       "      <td>0.404566</td>\n",
       "      <td>00:28</td>\n",
       "    </tr>\n",
       "    <tr>\n",
       "      <td>7</td>\n",
       "      <td>1.432582</td>\n",
       "      <td>1.573073</td>\n",
       "      <td>0.854788</td>\n",
       "      <td>0.610653</td>\n",
       "      <td>0.389347</td>\n",
       "      <td>00:28</td>\n",
       "    </tr>\n",
       "    <tr>\n",
       "      <td>8</td>\n",
       "      <td>1.352613</td>\n",
       "      <td>1.582470</td>\n",
       "      <td>0.850349</td>\n",
       "      <td>0.607483</td>\n",
       "      <td>0.392517</td>\n",
       "      <td>00:28</td>\n",
       "    </tr>\n",
       "    <tr>\n",
       "      <td>9</td>\n",
       "      <td>1.280463</td>\n",
       "      <td>1.595823</td>\n",
       "      <td>0.854153</td>\n",
       "      <td>0.618263</td>\n",
       "      <td>0.381737</td>\n",
       "      <td>00:28</td>\n",
       "    </tr>\n",
       "    <tr>\n",
       "      <td>10</td>\n",
       "      <td>1.200739</td>\n",
       "      <td>1.584475</td>\n",
       "      <td>0.858592</td>\n",
       "      <td>0.615726</td>\n",
       "      <td>0.384274</td>\n",
       "      <td>00:28</td>\n",
       "    </tr>\n",
       "    <tr>\n",
       "      <td>11</td>\n",
       "      <td>1.141168</td>\n",
       "      <td>1.694378</td>\n",
       "      <td>0.845276</td>\n",
       "      <td>0.607483</td>\n",
       "      <td>0.392517</td>\n",
       "      <td>00:28</td>\n",
       "    </tr>\n",
       "    <tr>\n",
       "      <td>12</td>\n",
       "      <td>1.067295</td>\n",
       "      <td>1.645755</td>\n",
       "      <td>0.843373</td>\n",
       "      <td>0.621433</td>\n",
       "      <td>0.378567</td>\n",
       "      <td>00:28</td>\n",
       "    </tr>\n",
       "  </tbody>\n",
       "</table>"
      ],
      "text/plain": [
       "<IPython.core.display.HTML object>"
      ]
     },
     "metadata": {},
     "output_type": "display_data"
    },
    {
     "name": "stdout",
     "output_type": "stream",
     "text": [
      "Better model found at epoch 0 with valid_loss value: 2.9311883449554443.\n",
      "Better model found at epoch 1 with valid_loss value: 2.2089192867279053.\n",
      "Better model found at epoch 2 with valid_loss value: 1.8637561798095703.\n",
      "Better model found at epoch 3 with valid_loss value: 1.6934163570404053.\n",
      "Better model found at epoch 4 with valid_loss value: 1.6474547386169434.\n",
      "Better model found at epoch 5 with valid_loss value: 1.5856961011886597.\n",
      "Better model found at epoch 7 with valid_loss value: 1.5730732679367065.\n",
      "No improvement since epoch 7: early stopping\n"
     ]
    }
   ],
   "source": [
    "learn.fit_one_cycle(50, 3e-3, cbs=[SaveModelCallback(monitor='valid_loss', \n",
    "                                                    \n",
    "                                                   fname='deboer_baseline'), \n",
    "                                   EarlyStoppingCallback(monitor='valid_loss', min_delta=0.01, patience=5)])"
   ]
  },
  {
   "cell_type": "code",
   "execution_count": 28,
   "metadata": {},
   "outputs": [],
   "source": [
    "data = get_dls(128, 224)\n",
    "classes = data.vocab"
   ]
  },
  {
   "cell_type": "code",
   "execution_count": 29,
   "metadata": {},
   "outputs": [
    {
     "data": {
      "text/html": [],
      "text/plain": [
       "<IPython.core.display.HTML object>"
      ]
     },
     "metadata": {},
     "output_type": "display_data"
    },
    {
     "data": {
      "image/png": "[encoded data removed]",
      "text/plain": [
       "<Figure size 1152x360 with 2 Axes>"
      ]
     },
     "metadata": {
      "needs_background": "light"
     },
     "output_type": "display_data"
    }
   ],
   "source": [
    "valid_paths = data.valid_ds.items\n",
    "random_path = random.choice(valid_paths)\n",
    "label, y, output = learn.predict(random_path)\n",
    "img = Image.open(random_path)\n",
    "img = img.resize((256, 256))\n",
    "probs, preds = output.topk(5)\n",
    "top_classes = [classes[i] for i in preds]\n",
    "top5 = list(probs)\n",
    "result = pd.DataFrame({'p': probs}, index=top_classes)\n",
    "\n",
    "\n",
    "plt.figure(figsize=(16,5))\n",
    "ax = plt.subplot(1, 2, 1)\n",
    "ax.set_title(label, size=20)\n",
    "ax = plt.imshow(img, cmap='gray')\n",
    "\n",
    "plt.axis('off')\n",
    "ax = plt.subplot(1, 2, 2)\n",
    "result.sort_values('p')['p'].plot.barh(color='blue', edgecolor='k', ax=ax)\n",
    "plt.xlabel('Predicted probabilities')\n",
    "plt.tight_layout()\n",
    "plt.savefig('dining_room.png', dpi=300, bbox_inches='tight')"
   ]
  },
  {
   "cell_type": "code",
   "execution_count": 30,
   "metadata": {},
   "outputs": [
    {
     "data": {
      "text/html": [],
      "text/plain": [
       "<IPython.core.display.HTML object>"
      ]
     },
     "metadata": {},
     "output_type": "display_data"
    }
   ],
   "source": [
    "interp = ClassificationInterpretation.from_learner(learn)"
   ]
  },
  {
   "cell_type": "code",
   "execution_count": 31,
   "metadata": {},
   "outputs": [
    {
     "data": {
      "text/plain": [
       "[('uitreiking_huldiging', 'groepsportret', 10),\n",
       " ('gebouw', 'woonwijk', 7),\n",
       " ('optocht', 'mensenmassa', 7),\n",
       " ('speech', 'groepsportret', 5)]"
      ]
     },
     "execution_count": 31,
     "metadata": {},
     "output_type": "execute_result"
    }
   ],
   "source": [
    "interp.most_confused(min_val=5)"
   ]
  },
  {
   "cell_type": "code",
   "execution_count": 32,
   "metadata": {},
   "outputs": [
    {
     "name": "stdout",
     "output_type": "stream",
     "text": [
      "                        precision    recall  f1-score   support\n",
      "\n",
      "                 akker       1.00      0.36      0.53        11\n",
      "           amfitheater       0.50      0.40      0.44         5\n",
      "                  aula       0.36      0.71      0.48         7\n",
      "                  auto       0.50      0.60      0.55         5\n",
      "          auto_ongeluk       0.36      0.31      0.33        13\n",
      "              bakkerij       1.00      0.40      0.57         5\n",
      "     basketbal_korfbal       0.58      0.88      0.70         8\n",
      "         begraafplaats       0.00      0.00      0.00         3\n",
      "            begrafenis       0.00      0.00      0.00        12\n",
      "bibliotheek_boekwinkel       1.00      1.00      1.00         2\n",
      "        binnen_zwembad       0.43      0.75      0.55         8\n",
      "               bloemen       0.50      0.71      0.59         7\n",
      "           bloementuin       0.83      0.50      0.62        10\n",
      "                boksen       0.00      0.00      0.00         0\n",
      "     borden_gevelsteen       0.43      0.25      0.32        12\n",
      "              bos_park       0.36      0.29      0.32        14\n",
      "                 boten       0.82      0.84      0.83        44\n",
      "            bouwplaats       0.58      0.84      0.69        68\n",
      "                 brand       0.95      0.76      0.84        25\n",
      "                  brug       0.33      0.25      0.29        12\n",
      "              bruiloft       0.50      0.25      0.33         4\n",
      "        buiten_zwembad       0.50      0.50      0.50         8\n",
      "             bus_truck       0.83      0.56      0.67         9\n",
      "                  cafe       0.62      0.56      0.59         9\n",
      "               catwalk       1.00      0.40      0.57         5\n",
      "                circus       0.91      0.91      0.91        11\n",
      "               cricket       0.86      1.00      0.92        12\n",
      "       dansende_mensen       0.75      0.50      0.60        12\n",
      "          demonstratie       0.38      0.55      0.44        11\n",
      "         dieren_overig       0.67      0.22      0.33         9\n",
      "                duinen       0.25      0.75      0.38         4\n",
      "                  eend       1.00      1.00      1.00         1\n",
      "               etalage       0.86      0.43      0.57        14\n",
      "         etende_mensen       0.48      0.59      0.53        17\n",
      "               fabriek       0.44      0.77      0.56        31\n",
      "      fietsende_mensen       0.64      0.88      0.74         8\n",
      "       garage_showroom       0.50      0.83      0.62         6\n",
      "                gebouw       0.75      0.78      0.77        63\n",
      "          geestelijken       0.20      0.12      0.15         8\n",
      "         groepsportret       0.34      0.72      0.46        39\n",
      "            gymnastiek       0.62      0.76      0.68        17\n",
      "               handbal       0.80      0.44      0.57         9\n",
      "             hardlopen       0.17      0.33      0.22         3\n",
      "                 haven       0.62      0.65      0.64        23\n",
      "            herdenking       0.23      0.43      0.30         7\n",
      " historisch_toneelstuk       0.57      0.44      0.50         9\n",
      "                hockey       0.67      1.00      0.80         4\n",
      "                  hond       1.00      1.00      1.00         2\n",
      "               honkbal       1.00      0.75      0.86        20\n",
      "                huisje       1.00      0.14      0.25         7\n",
      "             kaartspel       0.00      0.00      0.00         0\n",
      "                  kade       0.40      0.40      0.40         5\n",
      "              kamperen       0.50      0.33      0.40         6\n",
      "               kantoor       0.77      0.80      0.78        25\n",
      "                kapper       1.00      0.50      0.67         2\n",
      "           kerk_binnen       0.92      0.79      0.85        14\n",
      "           kerk_buiten       0.73      0.80      0.76        10\n",
      "                kermis       0.00      0.00      0.00         0\n",
      "              kerstmis       0.00      0.00      0.00         4\n",
      "                keuken       0.45      0.50      0.48        10\n",
      "            klaslokaal       0.44      0.57      0.50        14\n",
      "                   koe       0.00      0.00      0.00         1\n",
      "                konijn       0.50      1.00      0.67         1\n",
      "             kunstwerk       0.36      0.67      0.47         6\n",
      "             luchtfoto       0.83      0.83      0.83        12\n",
      "              maquette       1.00      0.50      0.67         6\n",
      "                 markt       0.56      0.36      0.43        14\n",
      "    mensen_op_een_boot       0.43      0.21      0.29        14\n",
      "        mensen_op_trap       1.00      0.60      0.75         5\n",
      "           mensenmassa       0.48      0.71      0.57        49\n",
      "              militair       0.67      0.25      0.36         8\n",
      "            motorfiets       1.00      0.33      0.50         3\n",
      "       muziek_optreden       0.81      0.45      0.58        49\n",
      "      ongeluk_brancard       0.00      0.00      0.00         6\n",
      "    ontvangst_afscheid       1.00      0.33      0.50         3\n",
      "             opgraving       0.25      0.25      0.25         4\n",
      "               optocht       0.64      0.28      0.39        25\n",
      "                 paard       0.78      0.58      0.67        12\n",
      "           plattegrond       0.00      0.00      0.00         3\n",
      "               portret       0.62      0.75      0.68        44\n",
      "                  race       0.80      0.57      0.67         7\n",
      "                roeien       0.71      0.83      0.77         6\n",
      "                 rugby       0.00      0.00      0.00         1\n",
      "             schaatsen       0.73      1.00      0.84         8\n",
      "        schaken_dammen       0.93      0.76      0.84        17\n",
      "           scheepswerf       0.75      0.38      0.50         8\n",
      "           sinterklaas       0.66      0.74      0.70        39\n",
      "              slagerij       0.83      0.71      0.77         7\n",
      "       sneeuwlandschap       0.60      0.27      0.37        11\n",
      "                speech       0.67      0.23      0.34        26\n",
      "             speeltuin       0.80      0.57      0.67         7\n",
      "            standbeeld       0.64      0.47      0.55        19\n",
      "                straat       0.50      0.61      0.55        38\n",
      "                strand       0.59      0.87      0.70        23\n",
      "          tafel_tennis       0.00      0.00      0.00         0\n",
      "                tennis       0.00      0.00      0.00         0\n",
      "       tentoonstelling       0.57      0.74      0.64        23\n",
      "                terras       0.00      0.00      0.00         2\n",
      "               theater       0.62      0.36      0.45        14\n",
      "                 toren       0.75      0.60      0.67         5\n",
      "                  tram       0.33      0.33      0.33         3\n",
      "                 trein       0.50      0.33      0.40         3\n",
      "         trein_ongeluk       0.80      1.00      0.89         8\n",
      "         trein_station       0.00      0.00      0.00         1\n",
      "  uitreiking_huldiging       0.68      0.64      0.66        70\n",
      "        vergaderruimte       0.62      0.53      0.57        15\n",
      "           vijver_plas       1.00      0.25      0.40         4\n",
      "              visserij       1.00      0.10      0.18        10\n",
      "           vlag_hijsen       0.00      0.00      0.00         4\n",
      "               voetbal       0.91      0.86      0.89        50\n",
      "          voetbal_team       0.90      0.69      0.78        13\n",
      "             volleybal       0.00      0.00      0.00         1\n",
      "             waterpolo       0.00      0.00      0.00         2\n",
      "              waterweg       0.53      0.64      0.58        14\n",
      "            wielrennen       1.00      0.50      0.67         2\n",
      "             windmolen       0.83      0.62      0.71         8\n",
      "            windsurfen       0.00      0.00      0.00         1\n",
      "         winkel_binnen       0.86      0.79      0.83        24\n",
      "          winkelstraat       0.45      0.83      0.59         6\n",
      "             woonkamer       0.59      0.45      0.51        22\n",
      "              woonwijk       0.43      0.59      0.50        27\n",
      "           zaalvoetbal       1.00      0.80      0.89        10\n",
      "        zeepkistenrace       0.00      0.00      0.00         1\n",
      "            ziekenhuis       0.57      0.50      0.53         8\n",
      "                 zwaan       0.00      0.00      0.00         1\n",
      "\n",
      "             micro avg       0.61      0.61      0.61      1577\n",
      "             macro avg       0.56      0.49      0.49      1577\n",
      "          weighted avg       0.64      0.61      0.60      1577\n",
      "\n"
     ]
    },
    {
     "name": "stderr",
     "output_type": "stream",
     "text": [
      "/opt/conda/lib/python3.9/site-packages/sklearn/metrics/_classification.py:1248: UndefinedMetricWarning: Precision and F-score are ill-defined and being set to 0.0 in labels with no predicted samples. Use `zero_division` parameter to control this behavior.\n",
      "  _warn_prf(average, modifier, msg_start, len(result))\n",
      "/opt/conda/lib/python3.9/site-packages/sklearn/metrics/_classification.py:1248: UndefinedMetricWarning: Recall and F-score are ill-defined and being set to 0.0 in labels with no true samples. Use `zero_division` parameter to control this behavior.\n",
      "  _warn_prf(average, modifier, msg_start, len(result))\n",
      "/opt/conda/lib/python3.9/site-packages/sklearn/metrics/_classification.py:1248: UndefinedMetricWarning: Precision and F-score are ill-defined and being set to 0.0 in labels with no predicted samples. Use `zero_division` parameter to control this behavior.\n",
      "  _warn_prf(average, modifier, msg_start, len(result))\n",
      "/opt/conda/lib/python3.9/site-packages/sklearn/metrics/_classification.py:1248: UndefinedMetricWarning: Recall and F-score are ill-defined and being set to 0.0 in labels with no true samples. Use `zero_division` parameter to control this behavior.\n",
      "  _warn_prf(average, modifier, msg_start, len(result))\n",
      "/opt/conda/lib/python3.9/site-packages/sklearn/metrics/_classification.py:1248: UndefinedMetricWarning: Precision and F-score are ill-defined and being set to 0.0 in labels with no predicted samples. Use `zero_division` parameter to control this behavior.\n",
      "  _warn_prf(average, modifier, msg_start, len(result))\n",
      "/opt/conda/lib/python3.9/site-packages/sklearn/metrics/_classification.py:1248: UndefinedMetricWarning: Recall and F-score are ill-defined and being set to 0.0 in labels with no true samples. Use `zero_division` parameter to control this behavior.\n",
      "  _warn_prf(average, modifier, msg_start, len(result))\n"
     ]
    }
   ],
   "source": [
    "interp.print_classification_report()"
   ]
  },
  {
   "cell_type": "code",
   "execution_count": 33,
   "metadata": {},
   "outputs": [
    {
     "data": {
      "text/plain": [
       "Path('models/DeBoer_places.pth')"
      ]
     },
     "execution_count": 33,
     "metadata": {},
     "output_type": "execute_result"
    }
   ],
   "source": [
    "learn.save('DeBoer_places')"
   ]
  },
  {
   "cell_type": "code",
   "execution_count": 45,
   "metadata": {},
   "outputs": [],
   "source": [
    "learn = cnn_learner(get_dls(128, 224, augment=True), \n",
    "                    new_resnet,\n",
    "                    #models.resnet34,\n",
    "                    metrics=[top_k_accuracy, \n",
    "                             accuracy,\n",
    "                             error_rate])"
   ]
  },
  {
   "cell_type": "code",
   "execution_count": 46,
   "metadata": {},
   "outputs": [
    {
     "data": {
      "text/plain": [
       "<fastai.learner.Learner at 0x7fa5787624c0>"
      ]
     },
     "execution_count": 46,
     "metadata": {},
     "output_type": "execute_result"
    }
   ],
   "source": [
    "learn.load('DeBoer_places')"
   ]
  },
  {
   "cell_type": "code",
   "execution_count": 47,
   "metadata": {},
   "outputs": [
    {
     "data": {
      "text/html": [],
      "text/plain": [
       "<IPython.core.display.HTML object>"
      ]
     },
     "metadata": {},
     "output_type": "display_data"
    }
   ],
   "source": [
    "label, y, output = learn.predict('../../MelvinWevers#9512/DeBoer_Train/auto_ongeluk/NL-HlmNHA_1478_08130_G.jpg')"
   ]
  },
  {
   "cell_type": "code",
   "execution_count": null,
   "metadata": {},
   "outputs": [],
   "source": []
  },
  {
   "cell_type": "code",
   "execution_count": 34,
   "metadata": {},
   "outputs": [],
   "source": [
    "learn.export('./models/DeBoer_places.pkl')"
   ]
  },
  {
   "cell_type": "code",
   "execution_count": 48,
   "metadata": {},
   "outputs": [],
   "source": [
    "probs, preds = output.topk(5)\n",
    "top_classes = [classes[i] for i in preds]\n",
    "top5 = list(probs)\n",
    "result = pd.DataFrame({'p': probs}, index=top_classes)"
   ]
  },
  {
   "cell_type": "code",
   "execution_count": 49,
   "metadata": {},
   "outputs": [
    {
     "data": {
      "text/html": [
       "<div>\n",
       "<style scoped>\n",
       "    .dataframe tbody tr th:only-of-type {\n",
       "        vertical-align: middle;\n",
       "    }\n",
       "\n",
       "    .dataframe tbody tr th {\n",
       "        vertical-align: top;\n",
       "    }\n",
       "\n",
       "    .dataframe thead th {\n",
       "        text-align: right;\n",
       "    }\n",
       "</style>\n",
       "<table border=\"1\" class=\"dataframe\">\n",
       "  <thead>\n",
       "    <tr style=\"text-align: right;\">\n",
       "      <th></th>\n",
       "      <th>p</th>\n",
       "    </tr>\n",
       "  </thead>\n",
       "  <tbody>\n",
       "    <tr>\n",
       "      <th>auto_ongeluk</th>\n",
       "      <td>0.851779</td>\n",
       "    </tr>\n",
       "    <tr>\n",
       "      <th>auto</th>\n",
       "      <td>0.053180</td>\n",
       "    </tr>\n",
       "    <tr>\n",
       "      <th>trein_ongeluk</th>\n",
       "      <td>0.019182</td>\n",
       "    </tr>\n",
       "    <tr>\n",
       "      <th>akker</th>\n",
       "      <td>0.019047</td>\n",
       "    </tr>\n",
       "    <tr>\n",
       "      <th>kamperen</th>\n",
       "      <td>0.018278</td>\n",
       "    </tr>\n",
       "  </tbody>\n",
       "</table>\n",
       "</div>"
      ],
      "text/plain": [
       "                      p\n",
       "auto_ongeluk   0.851779\n",
       "auto           0.053180\n",
       "trein_ongeluk  0.019182\n",
       "akker          0.019047\n",
       "kamperen       0.018278"
      ]
     },
     "execution_count": 49,
     "metadata": {},
     "output_type": "execute_result"
    }
   ],
   "source": [
    "result"
   ]
  },
  {
   "cell_type": "code",
   "execution_count": 40,
   "metadata": {},
   "outputs": [],
   "source": [
    "def make_prediction(path, topk=5):\n",
    "    output_ = {}\n",
    "    label, y, output = learner.predict(path)\n",
    "    probs, preds = output.topk(125)\n",
    "    for index, class_ in enumerate(preds):\n",
    "        output_[classes[class_]] = round(float(probs[index]),4)\n",
    "    return output_"
   ]
  },
  {
   "cell_type": "code",
   "execution_count": 35,
   "metadata": {},
   "outputs": [],
   "source": [
    "learner = load_learner('./models/DeBoer_places.pkl')"
   ]
  },
  {
   "cell_type": "code",
   "execution_count": 44,
   "metadata": {},
   "outputs": [
    {
     "data": {
      "text/html": [],
      "text/plain": [
       "<IPython.core.display.HTML object>"
      ]
     },
     "metadata": {},
     "output_type": "display_data"
    },
    {
     "data": {
      "text/plain": [
       "{'slagerij': 0.1767,\n",
       " 'circus': 0.1187,\n",
       " 'vlag_hijsen': 0.0552,\n",
       " 'duinen': 0.0462,\n",
       " 'zeepkistenrace': 0.0284,\n",
       " 'markt': 0.0275,\n",
       " 'theater': 0.0264,\n",
       " 'motorfiets': 0.0256,\n",
       " 'tafel_tennis': 0.0204,\n",
       " 'dieren_overig': 0.0202,\n",
       " 'rugby': 0.0171,\n",
       " 'handbal': 0.0171,\n",
       " 'schaken_dammen': 0.0171,\n",
       " 'zwaan': 0.0166,\n",
       " 'herdenking': 0.0148,\n",
       " 'windmolen': 0.014,\n",
       " 'bos_park': 0.0139,\n",
       " 'water_ski': 0.0136,\n",
       " 'hockey': 0.0134,\n",
       " 'geestelijken': 0.0132,\n",
       " 'tennis': 0.0117,\n",
       " 'zaalvoetbal': 0.0115,\n",
       " 'koe': 0.0102,\n",
       " 'fabriek': 0.0097,\n",
       " 'uitreiking_huldiging': 0.0092,\n",
       " 'trein_ongeluk': 0.0091,\n",
       " 'sneeuwlandschap': 0.0084,\n",
       " 'vergaderruimte': 0.0082,\n",
       " 'wielrennen': 0.008,\n",
       " 'buiten_zwembad': 0.0077,\n",
       " 'cafe': 0.0075,\n",
       " 'dansende_mensen': 0.0074,\n",
       " 'demonstratie': 0.0073,\n",
       " 'cricket': 0.0067,\n",
       " 'begraafplaats': 0.0059,\n",
       " 'konijn': 0.0053,\n",
       " 'terras': 0.0053,\n",
       " 'trein': 0.0051,\n",
       " 'straat': 0.005,\n",
       " 'begrafenis': 0.0049,\n",
       " 'bloementuin': 0.0045,\n",
       " 'sinterklaas': 0.0045,\n",
       " 'groepsportret': 0.0044,\n",
       " 'tram': 0.0044,\n",
       " 'luchtfoto': 0.0043,\n",
       " 'kermis': 0.0043,\n",
       " 'kerstmis': 0.0041,\n",
       " 'schaatsen': 0.004,\n",
       " 'vijver_plas': 0.004,\n",
       " 'maquette': 0.0039,\n",
       " 'roeien': 0.0039,\n",
       " 'speech': 0.0039,\n",
       " 'portret': 0.0036,\n",
       " 'woonkamer': 0.0036,\n",
       " 'bibliotheek_boekwinkel': 0.0034,\n",
       " 'bus_truck': 0.0034,\n",
       " 'bloemen': 0.0033,\n",
       " 'volleybal': 0.0032,\n",
       " 'gymnastiek': 0.003,\n",
       " 'borden_gevelsteen': 0.0029,\n",
       " 'etalage': 0.0029,\n",
       " 'plattegrond': 0.0028,\n",
       " 'winkelstraat': 0.0028,\n",
       " 'fietsende_mensen': 0.0025,\n",
       " 'kerk': 0.0025,\n",
       " 'basketbal_korfbal': 0.0024,\n",
       " 'catwalk': 0.0023,\n",
       " 'hond': 0.0023,\n",
       " 'voetbal_team': 0.0023,\n",
       " 'etende_mensen': 0.0021,\n",
       " 'waterpolo': 0.002,\n",
       " 'waterweg': 0.002,\n",
       " 'kapper': 0.002,\n",
       " 'bakkerij': 0.0019,\n",
       " 'keuken': 0.0019,\n",
       " 'tentoonstelling': 0.0018,\n",
       " 'mensen_massa': 0.0017,\n",
       " 'gemeentehuis': 0.0017,\n",
       " 'brug': 0.0016,\n",
       " 'huisje': 0.0016,\n",
       " 'bouwplaats': 0.0016,\n",
       " 'ziekenhuis': 0.0015,\n",
       " 'optocht': 0.0015,\n",
       " 'auto_ongeluk': 0.0014,\n",
       " 'woonwijk': 0.0014,\n",
       " 'haven': 0.0014,\n",
       " 'hardlopen': 0.0014,\n",
       " 'akker': 0.0014,\n",
       " 'boten': 0.0011,\n",
       " 'boksen': 0.001,\n",
       " 'eend': 0.001,\n",
       " 'bruiloft': 0.001,\n",
       " 'voetbal': 0.0009,\n",
       " 'brand': 0.0009,\n",
       " 'ontvangst_afscheid': 0.0009,\n",
       " 'kunstwerk': 0.0008,\n",
       " 'trein_station': 0.0008,\n",
       " 'klaslokaal': 0.0008,\n",
       " 'muziek_optreden': 0.0007,\n",
       " 'visserij': 0.0007,\n",
       " 'kade': 0.0007,\n",
       " 'militair': 0.0006,\n",
       " 'winkel_binnen': 0.0006,\n",
       " 'gebouw': 0.0005,\n",
       " 'kaartspel': 0.0005,\n",
       " 'auto': 0.0005,\n",
       " 'mensen_op_een_boot': 0.0004,\n",
       " 'historisch_toneelstuk': 0.0004,\n",
       " 'speeltuin': 0.0004,\n",
       " 'paard': 0.0004,\n",
       " 'amfitheater': 0.0003,\n",
       " 'toren': 0.0003,\n",
       " 'scheepswerf': 0.0003,\n",
       " 'binnen_zwembad': 0.0003,\n",
       " 'race': 0.0002,\n",
       " 'honkbal': 0.0002,\n",
       " 'kamperen': 0.0002,\n",
       " 'ongeluk_brancard': 0.0002,\n",
       " 'opgraving': 0.0002,\n",
       " 'garage_showroom': 0.0002,\n",
       " 'standbeeld': 0.0002,\n",
       " 'strand': 0.0002,\n",
       " 'kantoor': 0.0001,\n",
       " 'aula': 0.0001,\n",
       " 'kerk_binnen': 0.0001}"
      ]
     },
     "execution_count": 44,
     "metadata": {},
     "output_type": "execute_result"
    }
   ],
   "source": [
    "make_prediction('../../MelvinWevers#9512/DeBoer_Train/bruiloft/NL-HlmNHA_1478_08555_G.jpg')"
   ]
  },
  {
   "cell_type": "code",
   "execution_count": null,
   "metadata": {},
   "outputs": [],
   "source": []
  }
 ],
 "metadata": {
  "kernelspec": {
   "display_name": "hisvis",
   "language": "python",
   "name": "hisvis"
  },
  "language_info": {
   "codemirror_mode": {
    "name": "ipython",
    "version": 3
   },
   "file_extension": ".py",
   "mimetype": "text/x-python",
   "name": "python",
   "nbconvert_exporter": "python",
   "pygments_lexer": "ipython3",
   "version": "3.7.8"
  }
 },
 "nbformat": 4,
 "nbformat_minor": 4
}
