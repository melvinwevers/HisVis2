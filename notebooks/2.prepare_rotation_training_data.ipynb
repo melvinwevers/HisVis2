{
 "cells": [
  {
   "cell_type": "markdown",
   "metadata": {},
   "source": [
    "# 2. Preparing Rotation Training Data\n",
    "\n",
    "Using correctly oriented training data, we create incorrectly oriented training data by rotating it -90, 90, and 180 degrees. "
   ]
  },
  {
   "cell_type": "code",
   "execution_count": null,
   "metadata": {},
   "outputs": [],
   "source": [
    "from PIL import Image\n",
    "import os\n",
    "import glob\n",
    "from tqdm import tqdm"
   ]
  },
  {
   "cell_type": "code",
   "execution_count": 13,
   "metadata": {},
   "outputs": [],
   "source": [
    "img_dir = '../../MelvinWevers#9512/train/**/*.jpg' #input data\n",
    "output_dir = '../../MelvinWevers#9512/rotate' #output data\n",
    "\n",
    "\n",
    "# making output directories\n",
    "\n",
    "if not os.path.exists(output_dir):\n",
    "        os.makedirs(output_dir)\n",
    "\n",
    "if not os.path.exists(os.path.join(output_dir, 'normal')):\n",
    "        os.makedirs(os.path.join(output_dir, 'normal'))\n",
    "if not os.path.exists(os.path.join(output_dir, 'left')):\n",
    "        os.makedirs(os.path.join(output_dir, 'left'))\n",
    "if not os.path.exists(os.path.join(output_dir, 'right')):\n",
    "        os.makedirs(os.path.join(output_dir, 'right'))\n",
    "if not os.path.exists(os.path.join(output_dir, 'upsidedown')):\n",
    "        os.makedirs(os.path.join(output_dir, 'upsidedown'))"
   ]
  },
  {
   "cell_type": "markdown",
   "metadata": {},
   "source": [
    "## Rotating data"
   ]
  },
  {
   "cell_type": "code",
   "execution_count": 31,
   "metadata": {},
   "outputs": [],
   "source": [
    "imgs = glob.glob(img_dir)"
   ]
  },
  {
   "cell_type": "code",
   "execution_count": 35,
   "metadata": {},
   "outputs": [
    {
     "name": "stderr",
     "output_type": "stream",
     "text": [
      "100%|██████████| 9525/9525 [23:28<00:00,  6.76it/s]  \n"
     ]
    }
   ],
   "source": [
    "for i, img in enumerate(tqdm(imgs)):\n",
    "    im = PIL.Image.open(img).convert('RGB')\n",
    "    for rotation in [0, -90, 180, 90]:\n",
    "        if rotation == 0:\n",
    "            im.save(os.path.join(output_dir, 'normal', '{}_normal.jpg'.format(i)))\n",
    "        if rotation == -90:\n",
    "            im=im.rotate(rotation, expand=True)\n",
    "            im.save(os.path.join(output_dir, 'right', '{}_right.jpg'.format(i)))\n",
    "        if rotation == 180:\n",
    "            im=im.rotate(rotation, expand=True)\n",
    "            im.save(os.path.join(output_dir, 'upsidedown', '{}_upsidedown.jpg'.format(i)))\n",
    "        if rotation == 90:\n",
    "            im=im.rotate(rotation, expand=True)\n",
    "            im.save(os.path.join(output_dir, 'left', '{}_left.jpg'.format(i)))"
   ]
  }
 ],
 "metadata": {
  "kernelspec": {
   "display_name": "Python 3.9.11 ('gender_binary': conda)",
   "language": "python",
   "name": "python3"
  },
  "language_info": {
   "codemirror_mode": {
    "name": "ipython",
    "version": 3
   },
   "file_extension": ".py",
   "mimetype": "text/x-python",
   "name": "python",
   "nbconvert_exporter": "python",
   "pygments_lexer": "ipython3",
   "version": "3.9.11"
  },
  "vscode": {
   "interpreter": {
    "hash": "5acdfd529e0c3f4334f0acb0919c8d854b7f1251a5603ab1874a91ad2f8aed4a"
   }
  }
 },
 "nbformat": 4,
 "nbformat_minor": 4
}
