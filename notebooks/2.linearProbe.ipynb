{
 "cells": [
  {
   "cell_type": "code",
   "execution_count": 1,
   "metadata": {},
   "outputs": [],
   "source": [
    "%load_ext autoreload\n",
    "%autoreload 2"
   ]
  },
  {
   "cell_type": "code",
   "execution_count": 2,
   "metadata": {},
   "outputs": [],
   "source": [
    "from fastai.vision.all import *\n",
    "import os\n",
    "import clip\n",
    "import torch\n",
    "\n",
    "import numpy as np\n",
    "from sklearn.linear_model import LogisticRegression\n",
    "from sklearn.metrics import classification_report\n",
    "\n",
    "from torch.utils.data import DataLoader\n",
    "from tqdm import tqdm\n",
    "\n",
    "from helper import *\n"
   ]
  },
  {
   "cell_type": "markdown",
   "metadata": {},
   "source": [
    "# Load the CLIP-Model"
   ]
  },
  {
   "cell_type": "code",
   "execution_count": 3,
   "metadata": {},
   "outputs": [],
   "source": [
    "# Load the model\n",
    "device = \"cuda\" if torch.cuda.is_available() else \"cpu\"\n",
    "model, preprocess = clip.load('ViT-B/32', device)\n",
    "\n"
   ]
  },
  {
   "cell_type": "code",
   "execution_count": 7,
   "metadata": {},
   "outputs": [],
   "source": [
    "# setting path variables \n",
    "Path.BASE_PATH = Path('../../MelvinWevers#9512/DeBoer_Train')\n",
    "Path.BASE_PATH.ls()\n",
    "path = Path.BASE_PATH"
   ]
  },
  {
   "cell_type": "code",
   "execution_count": 8,
   "metadata": {},
   "outputs": [],
   "source": [
    "data = get_dls(128, 224, path, augment=False)"
   ]
  },
  {
   "cell_type": "code",
   "execution_count": 9,
   "metadata": {},
   "outputs": [
    {
     "name": "stderr",
     "output_type": "stream",
     "text": [
      "100%|██████████| 49/49 [00:10<00:00,  4.77it/s]\n",
      "100%|██████████| 13/13 [00:04<00:00,  2.65it/s]\n"
     ]
    }
   ],
   "source": [
    "# Calculate the image features\n",
    "train_features, train_labels = get_features(model, data.train)\n",
    "test_features, test_labels = get_features(model, data.valid)\n"
   ]
  },
  {
   "cell_type": "code",
   "execution_count": 10,
   "metadata": {},
   "outputs": [
    {
     "name": "stderr",
     "output_type": "stream",
     "text": [
      "[Parallel(n_jobs=-1)]: Using backend LokyBackend with 20 concurrent workers.\n"
     ]
    },
    {
     "name": "stdout",
     "output_type": "stream",
     "text": [
      "Accuracy = 71.877\n"
     ]
    },
    {
     "name": "stderr",
     "output_type": "stream",
     "text": [
      "[Parallel(n_jobs=-1)]: Done   1 out of   1 | elapsed:  2.6min finished\n"
     ]
    }
   ],
   "source": [
    "# Perform logistic regression\n",
    "classifier = LogisticRegression(random_state=0, C=0.316, max_iter=1000, verbose=1, n_jobs=-1)\n",
    "classifier.fit(train_features, train_labels)\n",
    "\n",
    "# Evaluate using the logistic regression classifier\n",
    "predictions = classifier.predict(test_features)\n",
    "accuracy = np.mean((test_labels == predictions).astype(np.float)) * 100.\n",
    "print(f\"Accuracy = {accuracy:.3f}\")"
   ]
  },
  {
   "cell_type": "code",
   "execution_count": 10,
   "metadata": {},
   "outputs": [],
   "source": [
    "# Param Sweep\n",
    "\n",
    "C_param_range = [0.5, 0.55, 0.575, 0.6, 0.65, 0.7]\n",
    "\n",
    "acc_Table = pd.DataFrame(columns = ['C_parameter','Accuracy'])\n",
    "acc_Table['C_parameter'] = C_param_range"
   ]
  },
  {
   "cell_type": "code",
   "execution_count": 11,
   "metadata": {},
   "outputs": [
    {
     "name": "stdout",
     "output_type": "stream",
     "text": [
      "0.5\n"
     ]
    },
    {
     "name": "stderr",
     "output_type": "stream",
     "text": [
      "/tmp/ipykernel_3778/4176061965.py:9: DeprecationWarning: `np.float` is a deprecated alias for the builtin `float`. To silence this warning, use `float` by itself. Doing this will not modify any behavior and is safe. If you specifically wanted the numpy scalar type, use `np.float64` here.\n",
      "Deprecated in NumPy 1.20; for more details and guidance: https://numpy.org/devdocs/release/1.20.0-notes.html#deprecations\n",
      "  acc_Table.iloc[j, 1] = np.mean((test_labels == predictions).astype(np.float)) * 100.\n"
     ]
    },
    {
     "name": "stdout",
     "output_type": "stream",
     "text": [
      "0.55\n"
     ]
    },
    {
     "name": "stderr",
     "output_type": "stream",
     "text": [
      "/tmp/ipykernel_3778/4176061965.py:9: DeprecationWarning: `np.float` is a deprecated alias for the builtin `float`. To silence this warning, use `float` by itself. Doing this will not modify any behavior and is safe. If you specifically wanted the numpy scalar type, use `np.float64` here.\n",
      "Deprecated in NumPy 1.20; for more details and guidance: https://numpy.org/devdocs/release/1.20.0-notes.html#deprecations\n",
      "  acc_Table.iloc[j, 1] = np.mean((test_labels == predictions).astype(np.float)) * 100.\n"
     ]
    },
    {
     "name": "stdout",
     "output_type": "stream",
     "text": [
      "0.575\n"
     ]
    },
    {
     "name": "stderr",
     "output_type": "stream",
     "text": [
      "/tmp/ipykernel_3778/4176061965.py:9: DeprecationWarning: `np.float` is a deprecated alias for the builtin `float`. To silence this warning, use `float` by itself. Doing this will not modify any behavior and is safe. If you specifically wanted the numpy scalar type, use `np.float64` here.\n",
      "Deprecated in NumPy 1.20; for more details and guidance: https://numpy.org/devdocs/release/1.20.0-notes.html#deprecations\n",
      "  acc_Table.iloc[j, 1] = np.mean((test_labels == predictions).astype(np.float)) * 100.\n"
     ]
    },
    {
     "name": "stdout",
     "output_type": "stream",
     "text": [
      "0.6\n"
     ]
    },
    {
     "name": "stderr",
     "output_type": "stream",
     "text": [
      "/tmp/ipykernel_3778/4176061965.py:9: DeprecationWarning: `np.float` is a deprecated alias for the builtin `float`. To silence this warning, use `float` by itself. Doing this will not modify any behavior and is safe. If you specifically wanted the numpy scalar type, use `np.float64` here.\n",
      "Deprecated in NumPy 1.20; for more details and guidance: https://numpy.org/devdocs/release/1.20.0-notes.html#deprecations\n",
      "  acc_Table.iloc[j, 1] = np.mean((test_labels == predictions).astype(np.float)) * 100.\n"
     ]
    },
    {
     "name": "stdout",
     "output_type": "stream",
     "text": [
      "0.65\n"
     ]
    },
    {
     "name": "stderr",
     "output_type": "stream",
     "text": [
      "/tmp/ipykernel_3778/4176061965.py:9: DeprecationWarning: `np.float` is a deprecated alias for the builtin `float`. To silence this warning, use `float` by itself. Doing this will not modify any behavior and is safe. If you specifically wanted the numpy scalar type, use `np.float64` here.\n",
      "Deprecated in NumPy 1.20; for more details and guidance: https://numpy.org/devdocs/release/1.20.0-notes.html#deprecations\n",
      "  acc_Table.iloc[j, 1] = np.mean((test_labels == predictions).astype(np.float)) * 100.\n"
     ]
    },
    {
     "name": "stdout",
     "output_type": "stream",
     "text": [
      "0.7\n"
     ]
    },
    {
     "name": "stderr",
     "output_type": "stream",
     "text": [
      "/tmp/ipykernel_3778/4176061965.py:9: DeprecationWarning: `np.float` is a deprecated alias for the builtin `float`. To silence this warning, use `float` by itself. Doing this will not modify any behavior and is safe. If you specifically wanted the numpy scalar type, use `np.float64` here.\n",
      "Deprecated in NumPy 1.20; for more details and guidance: https://numpy.org/devdocs/release/1.20.0-notes.html#deprecations\n",
      "  acc_Table.iloc[j, 1] = np.mean((test_labels == predictions).astype(np.float)) * 100.\n"
     ]
    }
   ],
   "source": [
    "j = 0 \n",
    "for i in C_param_range:\n",
    "    print(i)\n",
    "    classifier = LogisticRegression(random_state=0, C = i, max_iter=1000, n_jobs=-1)\n",
    "    classifier.fit(train_features, train_labels)\n",
    "   \n",
    "    predictions = classifier.predict(test_features)\n",
    "    \n",
    "    acc_Table.iloc[j, 1] = np.mean((test_labels == predictions).astype(np.float)) * 100.\n",
    "    \n",
    "    j += 1\n"
   ]
  },
  {
   "cell_type": "code",
   "execution_count": 12,
   "metadata": {},
   "outputs": [
    {
     "data": {
      "text/html": [
       "<div>\n",
       "<style scoped>\n",
       "    .dataframe tbody tr th:only-of-type {\n",
       "        vertical-align: middle;\n",
       "    }\n",
       "\n",
       "    .dataframe tbody tr th {\n",
       "        vertical-align: top;\n",
       "    }\n",
       "\n",
       "    .dataframe thead th {\n",
       "        text-align: right;\n",
       "    }\n",
       "</style>\n",
       "<table border=\"1\" class=\"dataframe\">\n",
       "  <thead>\n",
       "    <tr style=\"text-align: right;\">\n",
       "      <th></th>\n",
       "      <th>C_parameter</th>\n",
       "      <th>Accuracy</th>\n",
       "    </tr>\n",
       "  </thead>\n",
       "  <tbody>\n",
       "    <tr>\n",
       "      <th>0</th>\n",
       "      <td>0.500</td>\n",
       "      <td>70.640457</td>\n",
       "    </tr>\n",
       "    <tr>\n",
       "      <th>1</th>\n",
       "      <td>0.550</td>\n",
       "      <td>70.703868</td>\n",
       "    </tr>\n",
       "    <tr>\n",
       "      <th>2</th>\n",
       "      <td>0.575</td>\n",
       "      <td>70.76728</td>\n",
       "    </tr>\n",
       "    <tr>\n",
       "      <th>3</th>\n",
       "      <td>0.600</td>\n",
       "      <td>70.830691</td>\n",
       "    </tr>\n",
       "    <tr>\n",
       "      <th>4</th>\n",
       "      <td>0.650</td>\n",
       "      <td>70.894103</td>\n",
       "    </tr>\n",
       "    <tr>\n",
       "      <th>5</th>\n",
       "      <td>0.700</td>\n",
       "      <td>70.76728</td>\n",
       "    </tr>\n",
       "  </tbody>\n",
       "</table>\n",
       "</div>"
      ],
      "text/plain": [
       "   C_parameter   Accuracy\n",
       "0        0.500  70.640457\n",
       "1        0.550  70.703868\n",
       "2        0.575   70.76728\n",
       "3        0.600  70.830691\n",
       "4        0.650  70.894103\n",
       "5        0.700   70.76728"
      ]
     },
     "execution_count": 12,
     "metadata": {},
     "output_type": "execute_result"
    }
   ],
   "source": [
    "acc_Table"
   ]
  },
  {
   "cell_type": "code",
   "execution_count": 13,
   "metadata": {},
   "outputs": [
    {
     "name": "stdout",
     "output_type": "stream",
     "text": [
      "Accuracy = 70.894\n"
     ]
    },
    {
     "name": "stderr",
     "output_type": "stream",
     "text": [
      "/tmp/ipykernel_3778/3050944049.py:7: DeprecationWarning: `np.float` is a deprecated alias for the builtin `float`. To silence this warning, use `float` by itself. Doing this will not modify any behavior and is safe. If you specifically wanted the numpy scalar type, use `np.float64` here.\n",
      "Deprecated in NumPy 1.20; for more details and guidance: https://numpy.org/devdocs/release/1.20.0-notes.html#deprecations\n",
      "  accuracy = np.mean((test_labels == predictions).astype(np.float)) * 100.\n"
     ]
    }
   ],
   "source": [
    "# Perform logistic regression\n",
    "classifier = LogisticRegression(random_state=0, C=0.65, max_iter=1000, verbose=0, n_jobs=-1)\n",
    "classifier.fit(train_features, train_labels)\n",
    "\n",
    "# Evaluate using the logistic regression classifier\n",
    "predictions = classifier.predict(test_features)\n",
    "accuracy = np.mean((test_labels == predictions).astype(np.float)) * 100.\n",
    "print(f\"Accuracy = {accuracy:.3f}\")"
   ]
  },
  {
   "cell_type": "code",
   "execution_count": null,
   "metadata": {},
   "outputs": [],
   "source": [
    "# Save Model"
   ]
  },
  {
   "cell_type": "code",
   "execution_count": 14,
   "metadata": {},
   "outputs": [],
   "source": [
    "filename = 'linear_probe_model.sav'\n",
    "model_path = './models/'\n",
    "pickle.dump(classifier, open(os.path.join(model_path, filename), 'wb'))\n",
    " \n",
    "# load the model from disk\n",
    "# loaded_model = pickle.load(open(filename, 'rb'))\n",
    "# result = loaded_model.score(X_test, Y_test)\n",
    "# print(result)"
   ]
  },
  {
   "cell_type": "code",
   "execution_count": 15,
   "metadata": {},
   "outputs": [],
   "source": [
    "test_labels_ = [data.vocab[x] for x in test_labels]\n",
    "predictions_ = [data.vocab[x] for x in predictions]"
   ]
  },
  {
   "cell_type": "code",
   "execution_count": 16,
   "metadata": {},
   "outputs": [
    {
     "name": "stdout",
     "output_type": "stream",
     "text": [
      "                        precision    recall  f1-score   support\n",
      "\n",
      "                 akker       1.00      0.82      0.90        11\n",
      "           amfitheater       1.00      0.80      0.89         5\n",
      "                  aula       0.83      0.71      0.77         7\n",
      "                  auto       0.60      0.60      0.60         5\n",
      "          auto_ongeluk       0.77      0.77      0.77        13\n",
      "              bakkerij       0.50      0.20      0.29         5\n",
      "     basketbal_korfbal       0.88      0.88      0.88         8\n",
      "         begraafplaats       1.00      0.67      0.80         3\n",
      "            begrafenis       1.00      0.17      0.29        12\n",
      "bibliotheek_boekwinkel       0.67      1.00      0.80         2\n",
      "        binnen_zwembad       0.45      0.62      0.53         8\n",
      "               bloemen       0.83      0.71      0.77         7\n",
      "           bloementuin       1.00      0.80      0.89        10\n",
      "     borden_gevelsteen       0.67      0.50      0.57        12\n",
      "              bos_park       0.53      0.64      0.58        14\n",
      "                 boten       0.81      0.77      0.79        44\n",
      "            bouwplaats       0.70      0.88      0.78        68\n",
      "                 brand       0.83      0.80      0.82        25\n",
      "                  brug       0.59      0.83      0.69        12\n",
      "              bruiloft       0.00      0.00      0.00         4\n",
      "        buiten_zwembad       0.25      0.12      0.17         8\n",
      "             bus_truck       0.71      0.56      0.63         9\n",
      "                  cafe       0.36      0.56      0.43         9\n",
      "               catwalk       1.00      0.60      0.75         5\n",
      "                circus       0.77      0.91      0.83        11\n",
      "               cricket       1.00      1.00      1.00        12\n",
      "       dansende_mensen       0.62      0.42      0.50        12\n",
      "          demonstratie       0.50      0.64      0.56        11\n",
      "         dieren_overig       0.62      0.56      0.59         9\n",
      "                duinen       0.67      0.50      0.57         4\n",
      "                  eend       1.00      1.00      1.00         1\n",
      "               etalage       0.85      0.79      0.81        14\n",
      "         etende_mensen       0.80      0.71      0.75        17\n",
      "               fabriek       0.65      0.90      0.76        31\n",
      "      fietsende_mensen       0.64      0.88      0.74         8\n",
      "       garage_showroom       1.00      0.83      0.91         6\n",
      "                gebouw       0.74      0.83      0.78        63\n",
      "          geestelijken       0.57      0.50      0.53         8\n",
      "         groepsportret       0.57      0.69      0.63        39\n",
      "            gymnastiek       0.67      0.71      0.69        17\n",
      "               handbal       1.00      0.78      0.88         9\n",
      "             hardlopen       1.00      0.33      0.50         3\n",
      "                 haven       0.76      0.83      0.79        23\n",
      "            herdenking       0.40      0.57      0.47         7\n",
      " historisch_toneelstuk       0.40      0.44      0.42         9\n",
      "                hockey       1.00      0.75      0.86         4\n",
      "                  hond       1.00      1.00      1.00         2\n",
      "               honkbal       1.00      0.90      0.95        20\n",
      "                huisje       0.33      0.14      0.20         7\n",
      "             kaartspel       0.00      0.00      0.00         0\n",
      "                  kade       0.83      1.00      0.91         5\n",
      "              kamperen       1.00      0.17      0.29         6\n",
      "               kantoor       0.88      0.84      0.86        25\n",
      "                kapper       1.00      1.00      1.00         2\n",
      "           kerk_binnen       0.73      0.79      0.76        14\n",
      "           kerk_buiten       0.62      0.80      0.70        10\n",
      "              kerstmis       1.00      0.50      0.67         4\n",
      "                keuken       0.56      0.50      0.53        10\n",
      "            klaslokaal       0.54      0.50      0.52        14\n",
      "                   koe       0.00      0.00      0.00         1\n",
      "                konijn       0.50      1.00      0.67         1\n",
      "             kunstwerk       0.50      0.17      0.25         6\n",
      "             luchtfoto       0.80      0.67      0.73        12\n",
      "              maquette       0.80      0.67      0.73         6\n",
      "                 markt       0.40      0.57      0.47        14\n",
      "    mensen_op_een_boot       0.60      0.43      0.50        14\n",
      "        mensen_op_trap       0.00      0.00      0.00         5\n",
      "           mensenmassa       0.49      0.61      0.55        49\n",
      "              militair       0.57      0.50      0.53         8\n",
      "            motorfiets       1.00      0.67      0.80         3\n",
      "       muziek_optreden       0.78      0.71      0.74        49\n",
      "      ongeluk_brancard       1.00      0.50      0.67         6\n",
      "    ontvangst_afscheid       1.00      0.33      0.50         3\n",
      "             opgraving       1.00      0.50      0.67         4\n",
      "               optocht       0.59      0.68      0.63        25\n",
      "                 paard       0.77      0.83      0.80        12\n",
      "           plattegrond       1.00      0.33      0.50         3\n",
      "               portret       0.63      0.77      0.69        44\n",
      "                  race       0.80      0.57      0.67         7\n",
      "                roeien       0.67      0.67      0.67         6\n",
      "                 rugby       1.00      1.00      1.00         1\n",
      "             schaatsen       0.70      0.88      0.78         8\n",
      "        schaken_dammen       0.93      0.82      0.87        17\n",
      "           scheepswerf       0.50      0.12      0.20         8\n",
      "           sinterklaas       0.88      0.77      0.82        39\n",
      "              slagerij       0.60      0.43      0.50         7\n",
      "       sneeuwlandschap       0.83      0.45      0.59        11\n",
      "                speech       0.81      0.50      0.62        26\n",
      "             speeltuin       0.50      0.57      0.53         7\n",
      "            standbeeld       0.93      0.74      0.82        19\n",
      "                straat       0.61      0.79      0.69        38\n",
      "                strand       0.81      0.96      0.88        23\n",
      "       tentoonstelling       0.71      0.74      0.72        23\n",
      "                terras       0.00      0.00      0.00         2\n",
      "               theater       0.42      0.57      0.48        14\n",
      "                 toren       0.40      0.40      0.40         5\n",
      "                  tram       0.40      0.67      0.50         3\n",
      "                 trein       0.50      0.33      0.40         3\n",
      "         trein_ongeluk       1.00      0.75      0.86         8\n",
      "         trein_station       0.25      1.00      0.40         1\n",
      "  uitreiking_huldiging       0.82      0.93      0.87        70\n",
      "        vergaderruimte       0.64      0.93      0.76        15\n",
      "           vijver_plas       0.50      0.50      0.50         4\n",
      "              visserij       1.00      0.60      0.75        10\n",
      "           vlag_hijsen       1.00      0.25      0.40         4\n",
      "               voetbal       0.94      0.96      0.95        50\n",
      "          voetbal_team       1.00      0.92      0.96        13\n",
      "             volleybal       0.00      0.00      0.00         1\n",
      "             waterpolo       0.00      0.00      0.00         2\n",
      "              waterweg       0.50      0.57      0.53        14\n",
      "            wielrennen       0.00      0.00      0.00         2\n",
      "             windmolen       1.00      0.62      0.77         8\n",
      "            windsurfen       1.00      1.00      1.00         1\n",
      "         winkel_binnen       0.73      0.79      0.76        24\n",
      "          winkelstraat       0.40      0.33      0.36         6\n",
      "             woonkamer       0.60      0.55      0.57        22\n",
      "              woonwijk       0.68      0.56      0.61        27\n",
      "           zaalvoetbal       0.90      0.90      0.90        10\n",
      "        zeepkistenrace       1.00      1.00      1.00         1\n",
      "            ziekenhuis       0.83      0.62      0.71         8\n",
      "                 zwaan       0.00      0.00      0.00         1\n",
      "\n",
      "              accuracy                           0.71      1577\n",
      "             macro avg       0.69      0.62      0.62      1577\n",
      "          weighted avg       0.72      0.71      0.70      1577\n",
      "\n"
     ]
    },
    {
     "name": "stderr",
     "output_type": "stream",
     "text": [
      "/opt/conda/lib/python3.9/site-packages/sklearn/metrics/_classification.py:1248: UndefinedMetricWarning: Precision and F-score are ill-defined and being set to 0.0 in labels with no predicted samples. Use `zero_division` parameter to control this behavior.\n",
      "  _warn_prf(average, modifier, msg_start, len(result))\n",
      "/opt/conda/lib/python3.9/site-packages/sklearn/metrics/_classification.py:1248: UndefinedMetricWarning: Recall and F-score are ill-defined and being set to 0.0 in labels with no true samples. Use `zero_division` parameter to control this behavior.\n",
      "  _warn_prf(average, modifier, msg_start, len(result))\n",
      "/opt/conda/lib/python3.9/site-packages/sklearn/metrics/_classification.py:1248: UndefinedMetricWarning: Precision and F-score are ill-defined and being set to 0.0 in labels with no predicted samples. Use `zero_division` parameter to control this behavior.\n",
      "  _warn_prf(average, modifier, msg_start, len(result))\n",
      "/opt/conda/lib/python3.9/site-packages/sklearn/metrics/_classification.py:1248: UndefinedMetricWarning: Recall and F-score are ill-defined and being set to 0.0 in labels with no true samples. Use `zero_division` parameter to control this behavior.\n",
      "  _warn_prf(average, modifier, msg_start, len(result))\n",
      "/opt/conda/lib/python3.9/site-packages/sklearn/metrics/_classification.py:1248: UndefinedMetricWarning: Precision and F-score are ill-defined and being set to 0.0 in labels with no predicted samples. Use `zero_division` parameter to control this behavior.\n",
      "  _warn_prf(average, modifier, msg_start, len(result))\n",
      "/opt/conda/lib/python3.9/site-packages/sklearn/metrics/_classification.py:1248: UndefinedMetricWarning: Recall and F-score are ill-defined and being set to 0.0 in labels with no true samples. Use `zero_division` parameter to control this behavior.\n",
      "  _warn_prf(average, modifier, msg_start, len(result))\n"
     ]
    }
   ],
   "source": [
    "print(classification_report(test_labels_, predictions_))"
   ]
  },
  {
   "cell_type": "code",
   "execution_count": 17,
   "metadata": {},
   "outputs": [
    {
     "name": "stdout",
     "output_type": "stream",
     "text": [
      "top5 acc 0.9403931515535827\n"
     ]
    }
   ],
   "source": [
    "## Calculate top-5 accuracy\n",
    "correct = []\n",
    "pred_5 = [] \n",
    "\n",
    "top5 = 0.0 \n",
    "\n",
    "probs = classifier.predict_proba(test_features)\n",
    "best_n = np.argsort(probs, axis=1)[:,-5:]\n",
    "\n",
    "for i, preds in enumerate(best_n):\n",
    "    if test_labels[i] in best_n[i]:\n",
    "        top5 += 1.0\n",
    "\n",
    "    \n",
    "print(\"top5 acc\", top5/len(best_n))   "
   ]
  },
  {
   "cell_type": "markdown",
   "metadata": {},
   "source": [
    "## Predict a single image"
   ]
  },
  {
   "cell_type": "code",
   "execution_count": 23,
   "metadata": {},
   "outputs": [],
   "source": [
    "img_features = get_single_img_features('../../MelvinWevers#9512/DeBoer_Train/auto_ongeluk/NL-HlmNHA_1478_08130_G.jpg')"
   ]
  },
  {
   "cell_type": "code",
   "execution_count": 24,
   "metadata": {},
   "outputs": [],
   "source": [
    "predictions = classifier.predict(img_features)"
   ]
  },
  {
   "cell_type": "code",
   "execution_count": 107,
   "metadata": {},
   "outputs": [],
   "source": [
    "probs = classifier.predict_proba(img_features)\n",
    "best_n = np.argsort(probs, axis=1)[:,-5:]\n",
    "probabilities = np.round(np.sort(probs, axis=1)[:,-5:], 4)\n",
    "#test_labels[i] in best_n[i]:"
   ]
  },
  {
   "cell_type": "code",
   "execution_count": 110,
   "metadata": {},
   "outputs": [],
   "source": [
    "probabilities = np.round(np.sort(probs, axis=1)[:,-5:], 3)"
   ]
  },
  {
   "cell_type": "code",
   "execution_count": 108,
   "metadata": {},
   "outputs": [],
   "source": [
    "labels = [data.vocab[i] for i in best_n]"
   ]
  },
  {
   "cell_type": "code",
   "execution_count": 136,
   "metadata": {},
   "outputs": [
    {
     "name": "stdout",
     "output_type": "stream",
     "text": [
      "0\n",
      "1\n",
      "2\n",
      "3\n",
      "4\n"
     ]
    }
   ],
   "source": [
    "output = {}\n",
    "for i, _ in enumerate(probabilities[0]):\n",
    "    print(i)\n",
    "    output[labels[0][i]] = probabilities[0][i]"
   ]
  }
 ],
 "metadata": {
  "kernelspec": {
   "display_name": "hisvis",
   "language": "python",
   "name": "hisvis"
  },
  "language_info": {
   "codemirror_mode": {
    "name": "ipython",
    "version": 3
   },
   "file_extension": ".py",
   "mimetype": "text/x-python",
   "name": "python",
   "nbconvert_exporter": "python",
   "pygments_lexer": "ipython3",
   "version": "3.7.8"
  }
 },
 "nbformat": 4,
 "nbformat_minor": 4
}
