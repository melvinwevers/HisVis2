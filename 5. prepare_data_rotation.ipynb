{
 "cells": [
  {
   "cell_type": "code",
   "execution_count": 32,
   "metadata": {},
   "outputs": [],
   "source": [
    "from PIL import Image\n",
    "import os\n",
    "import glob\n",
    "from tqdm import tqdm"
   ]
  },
  {
   "cell_type": "code",
   "execution_count": 13,
   "metadata": {},
   "outputs": [],
   "source": [
    "img_dir = '../../MelvinWevers#9512/train/**/*.jpg'\n",
    "output_dir = '../../MelvinWevers#9512/rotate'"
   ]
  },
  {
   "cell_type": "code",
   "execution_count": 29,
   "metadata": {},
   "outputs": [],
   "source": [
    "if not os.path.exists(output_dir):\n",
    "        os.makedirs(output_dir)"
   ]
  },
  {
   "cell_type": "code",
   "execution_count": 30,
   "metadata": {},
   "outputs": [],
   "source": [
    "if not os.path.exists(os.path.join(output_dir, 'normal')):\n",
    "        os.makedirs(os.path.join(output_dir, 'normal'))\n",
    "if not os.path.exists(os.path.join(output_dir, 'left')):\n",
    "        os.makedirs(os.path.join(output_dir, 'left'))\n",
    "if not os.path.exists(os.path.join(output_dir, 'right')):\n",
    "        os.makedirs(os.path.join(output_dir, 'right'))\n",
    "if not os.path.exists(os.path.join(output_dir, 'upsidedown')):\n",
    "        os.makedirs(os.path.join(output_dir, 'upsidedown'))\n",
    "                      "
   ]
  },
  {
   "cell_type": "code",
   "execution_count": 31,
   "metadata": {},
   "outputs": [],
   "source": [
    "imgs = glob.glob(img_dir)"
   ]
  },
  {
   "cell_type": "code",
   "execution_count": 35,
   "metadata": {},
   "outputs": [
    {
     "name": "stderr",
     "output_type": "stream",
     "text": [
      "100%|██████████| 9525/9525 [23:28<00:00,  6.76it/s]  \n"
     ]
    }
   ],
   "source": [
    "for i, img in enumerate(tqdm(imgs)):\n",
    "    im = PIL.Image.open(img).convert('RGB')\n",
    "    for rotation in [0, -90, 180, 90]:\n",
    "        if rotation == 0:\n",
    "            im.save(os.path.join(output_dir, 'normal', '{}_normal.jpg'.format(i)))\n",
    "        if rotation == -90:\n",
    "            im=im.rotate(rotation, expand=True)\n",
    "            im.save(os.path.join(output_dir, 'right', '{}_right.jpg'.format(i)))\n",
    "        if rotation == 180:\n",
    "            im=im.rotate(rotation, expand=True)\n",
    "            im.save(os.path.join(output_dir, 'upsidedown', '{}_upsidedown.jpg'.format(i)))\n",
    "        if rotation == 90:\n",
    "            im=im.rotate(rotation, expand=True)\n",
    "            im.save(os.path.join(output_dir, 'left', '{}_left.jpg'.format(i)))"
   ]
  },
  {
   "cell_type": "code",
   "execution_count": null,
   "metadata": {},
   "outputs": [],
   "source": []
  }
 ],
 "metadata": {
  "kernelspec": {
   "display_name": "local-env",
   "language": "python",
   "name": "local-env"
  },
  "language_info": {
   "codemirror_mode": {
    "name": "ipython",
    "version": 3
   },
   "file_extension": ".py",
   "mimetype": "text/x-python",
   "name": "python",
   "nbconvert_exporter": "python",
   "pygments_lexer": "ipython3",
   "version": "3.9.6"
  }
 },
 "nbformat": 4,
 "nbformat_minor": 4
}
